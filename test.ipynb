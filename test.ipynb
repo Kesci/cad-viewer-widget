{
 "cells": [
  {
   "cell_type": "code",
   "execution_count": null,
   "id": "e014e63e-43f9-41c3-ae0c-42c7f745690c",
   "metadata": {},
   "outputs": [],
   "source": [
    "import numpy as np\n",
    "import json\n",
    "import asyncio\n",
    "from cad_viewer_widget import CadViewer"
   ]
  },
  {
   "cell_type": "code",
   "execution_count": null,
   "id": "06d7a35d-c99c-47d7-94d3-622f21559f86",
   "metadata": {},
   "outputs": [],
   "source": [
    "box1 = {\n",
    "    \"name\": \"Group\",\n",
    "    \"id\": \"/Group\",\n",
    "    \"loc\": None,\n",
    "    \"parts\": [\n",
    "        {\n",
    "            \"type\": \"shapes\",\n",
    "            \"id\": \"/Group/Part_0\",            \n",
    "            \"name\": \"Part_0\",\n",
    "            \"color\": \"#e8b024\",            \n",
    "            \"shape\": {\n",
    "                \"vertices\": np.asarray([\n",
    "                    [-0.5, -0.5, -0.5],\n",
    "                    [-0.5, -0.5, 0.5],\n",
    "                    [-0.5, 0.5, -0.5],\n",
    "                    [-0.5, 0.5, 0.5],\n",
    "                    [0.5, -0.5, -0.5],\n",
    "                    [0.5, -0.5, 0.5],\n",
    "                    [0.5, 0.5, -0.5],\n",
    "                    [0.5, 0.5, 0.5],\n",
    "                    [-0.5, -0.5, -0.5],\n",
    "                    [0.5, -0.5, -0.5],\n",
    "                    [-0.5, -0.5, 0.5],\n",
    "                    [0.5, -0.5, 0.5],\n",
    "                    [-0.5, 0.5, -0.5],\n",
    "                    [0.5, 0.5, -0.5],\n",
    "                    [-0.5, 0.5, 0.5],\n",
    "                    [0.5, 0.5, 0.5],\n",
    "                    [-0.5, -0.5, -0.5],\n",
    "                    [-0.5, 0.5, -0.5],\n",
    "                    [0.5, -0.5, -0.5],\n",
    "                    [0.5, 0.5, -0.5],\n",
    "                    [-0.5, -0.5, 0.5],\n",
    "                    [-0.5, 0.5, 0.5],\n",
    "                    [0.5, -0.5, 0.5],\n",
    "                    [0.5, 0.5, 0.5]\n",
    "                ]),\n",
    "                \"triangles\": [\n",
    "                    1, 2, 0, \n",
    "                    1, 3, 2, \n",
    "                    5, 4, 6, \n",
    "                    5, 6, 7, \n",
    "                    11, 8, 9, \n",
    "                    11, 10, 8, \n",
    "                    15, 13, 12, \n",
    "                    15, 12, 14, \n",
    "                    19, 16, 17, \n",
    "                    19, 18, 16, \n",
    "                    23, 21, 20, \n",
    "                    23, 20, 22],\n",
    "                \"normals\": np.asarray([\n",
    "                    [-1.0, -0.0, 0.0],\n",
    "                    [-1.0, -0.0, 0.0],\n",
    "                    [-1.0, -0.0, 0.0],\n",
    "                    [-1.0, -0.0, 0.0],\n",
    "                    [1.0, 0.0, -0.0],\n",
    "                    [1.0, 0.0, -0.0],\n",
    "                    [1.0, 0.0, -0.0],\n",
    "                    [1.0, 0.0, -0.0],\n",
    "                    [-0.0, -1.0, -0.0],\n",
    "                    [-0.0, -1.0, -0.0],\n",
    "                    [-0.0, -1.0, -0.0],\n",
    "                    [-0.0, -1.0, -0.0],\n",
    "                    [0.0, 1.0, 0.0],\n",
    "                    [0.0, 1.0, 0.0],\n",
    "                    [0.0, 1.0, 0.0],\n",
    "                    [0.0, 1.0, 0.0],\n",
    "                    [-0.0, -0.0, -1.0],\n",
    "                    [-0.0, -0.0, -1.0],\n",
    "                    [-0.0, -0.0, -1.0],\n",
    "                    [-0.0, -0.0, -1.0],\n",
    "                    [0.0, 0.0, 1.0],\n",
    "                    [0.0, 0.0, 1.0],\n",
    "                    [0.0, 0.0, 1.0],\n",
    "                    [0.0, 0.0, 1.0]\n",
    "                ]),\n",
    "                \"edges\": np.asarray([\n",
    "                        [[-0.5, -0.5, -0.5], [-0.5, -0.5, 0.5]],\n",
    "                        [[-0.5, -0.5, 0.5], [-0.5, 0.5, 0.5]],\n",
    "                        [[-0.5, 0.5, -0.5], [-0.5, 0.5, 0.5]],\n",
    "                        [[-0.5, -0.5, -0.5], [-0.5, 0.5, -0.5]],\n",
    "                        [[0.5, -0.5, -0.5], [0.5, -0.5, 0.5]],\n",
    "                        [[0.5, -0.5, 0.5], [0.5, 0.5, 0.5]],\n",
    "                        [[0.5, 0.5, -0.5], [0.5, 0.5, 0.5]],\n",
    "                        [[0.5, -0.5, -0.5], [0.5, 0.5, -0.5]],\n",
    "                        [[-0.5, -0.5, -0.5], [0.5, -0.5, -0.5]],\n",
    "                        [[-0.5, -0.5, 0.5], [0.5, -0.5, 0.5]],\n",
    "                        [[-0.5, 0.5, -0.5], [0.5, 0.5, -0.5]],\n",
    "                        [[-0.5, 0.5, 0.5], [0.5, 0.5, 0.5]]\n",
    "                ])\n",
    "            }\n",
    "        }\n",
    "    ]\n",
    "}\n",
    "\n",
    "\n",
    "states = { \"/Group/Part_0\":[1,1] }"
   ]
  },
  {
   "cell_type": "code",
   "execution_count": null,
   "id": "a9f4b252-28df-4551-a8ed-bba03c6f02ce",
   "metadata": {},
   "outputs": [],
   "source": [
    "cv = CadViewer(options={\"cadWidth\":640, \"height\":480, \"theme\":\"light\"})\n",
    "cv.add_shapes(box1, states, options={})"
   ]
  },
  {
   "cell_type": "code",
   "execution_count": null,
   "id": "41a95091-47ad-4213-857c-ba4573d50c94",
   "metadata": {},
   "outputs": [],
   "source": [
    "from ipywidgets import Output\n",
    "out = Output()\n",
    "\n",
    "def action(result):\n",
    "    with out:\n",
    "        print(json.loads(result))\n",
    "out"
   ]
  },
  {
   "cell_type": "code",
   "execution_count": null,
   "id": "a14a6822-3da1-42d8-af4b-624cf423b3dc",
   "metadata": {},
   "outputs": [],
   "source": [
    "cv.execute(\"viewer.camera.position\", \"set\", (4.3, 0, 0), update=True, callback=action)"
   ]
  },
  {
   "cell_type": "code",
   "execution_count": null,
   "id": "cc353456-d019-4c9e-9745-b246fd75860d",
   "metadata": {},
   "outputs": [],
   "source": [
    "cv.set(\"viewer.camera.zoom\", 0.8, update=True, callback=action)"
   ]
  },
  {
   "cell_type": "code",
   "execution_count": null,
   "id": "9a737420-a93e-4f3d-b34c-c465091f3c83",
   "metadata": {},
   "outputs": [],
   "source": [
    "cv.get(\"viewer.camera.position\", callback=action)"
   ]
  },
  {
   "cell_type": "code",
   "execution_count": null,
   "id": "bbcf33bb-1282-4f30-a111-dc1c3fa935ee",
   "metadata": {},
   "outputs": [],
   "source": [
    "cv.widget.result[\"result\"]"
   ]
  },
  {
   "cell_type": "code",
   "execution_count": null,
   "id": "2e31ec33-ed91-4737-9785-89bbb5f7d02a",
   "metadata": {},
   "outputs": [],
   "source": []
  }
 ],
 "metadata": {
  "kernelspec": {
   "display_name": "Python 3",
   "language": "python",
   "name": "python3"
  },
  "language_info": {
   "codemirror_mode": {
    "name": "ipython",
    "version": 3
   },
   "file_extension": ".py",
   "mimetype": "text/x-python",
   "name": "python",
   "nbconvert_exporter": "python",
   "pygments_lexer": "ipython3",
   "version": "3.8.10"
  },
  "widgets": {
   "application/vnd.jupyter.widget-state+json": {
    "state": {
     "082b3f856f8e4e289b8861ff09658b02": {
      "model_module": "@jupyter-widgets/base",
      "model_module_version": "1.2.0",
      "model_name": "LayoutModel",
      "state": {}
     },
     "0e4d042eb35d41ccba3fbf150d253fb1": {
      "model_module": "cad-viewer-widget",
      "model_module_version": "^0.1.0",
      "model_name": "CadViewerModel",
      "state": {
       "_model_module_version": "^0.1.0",
       "_view_module_version": "^0.1.0",
       "options": {
        "ambientIntensity": 0.9,
        "cadWidth": 640,
        "directIntensity": 0.12,
        "height": 480,
        "measure": false,
        "needsAnimationLoop": false,
        "normalLen": 0,
        "ortho": true,
        "theme": "light",
        "treeWidth": 240
       },
       "result": "{\"msg_id\":3,\"result\":{\"x\":2.4999999999999987,\"y\":2.4999999999999982,\"z\":2.4999999999999982}}",
       "shapes": {
        "options": {
         "ambientIntensity": 0.9,
         "cadWidth": 640,
         "directIntensity": 0.12,
         "height": 480,
         "needsAnimationLoop": false,
         "normalLen": 0,
         "ortho": true,
         "theme": "light",
         "treeWidth": 240
        },
        "shapes": "{\"name\": \"Group\", \"id\": \"/Group\", \"loc\": null, \"parts\": [{\"type\": \"shapes\", \"id\": \"/Group/Part_0\", \"name\": \"Part_0\", \"color\": \"#e8b024\", \"shape\": {\"vertices\": [\"_f32\", [24, 3], \"eJxjYGDYz4CJ7dFoGNseixg2OWxq0c1DNxebvdjsQ8ekuB2XOlxutwcA8hQjuQ==\"], \"triangles\": [1, 2, 0, 1, 3, 2, 5, 4, 6, 5, 6, 7, 11, 8, 9, 11, 10, 8, 15, 13, 12, 15, 12, 14, 19, 16, 17, 19, 18, 16, 23, 21, 20, 23, 20, 22], \"normals\": [\"_f32\", [24, 3], \"eJxjYGjYz8DA0MAABkSx7RmgDOLYYP5+EtjIdhDDJtUOYs0FswFs8yPp\"], \"edges\": [\"_f32\", [12, 2, 3], \"eJxjYGDYz4CJ7bGw7dHY+7GIYzODGLOwYWxyxNqJLobuFmzuwOoWACIjI7k=\"]}}]}",
        "states": {
         "/Group/Part_0": [
          1,
          1
         ]
        }
       },
       "tracks": []
      }
     },
     "f1c089459577451c839d8fd6b50318fd": {
      "model_module": "@jupyter-widgets/output",
      "model_module_version": "1.0.0",
      "model_name": "OutputModel",
      "state": {
       "layout": "IPY_MODEL_082b3f856f8e4e289b8861ff09658b02",
       "outputs": [
        {
         "name": "stdout",
         "output_type": "stream",
         "text": "{'msg_id': 1, 'result': {'x': 4.299999999999998, 'y': -2.6329906181668082e-16, 'z': 2.6329906181668082e-16}}\n{'msg_id': 2, 'result': [0.8]}\n{'msg_id': 3, 'result': {'x': 2.4999999999999987, 'y': 2.4999999999999982, 'z': 2.4999999999999982}}\n"
        }
       ]
      }
     }
    },
    "version_major": 2,
    "version_minor": 0
   }
  }
 },
 "nbformat": 4,
 "nbformat_minor": 5
}
