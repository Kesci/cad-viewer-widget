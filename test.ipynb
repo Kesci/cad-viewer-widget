{
 "cells": [
  {
   "cell_type": "code",
   "execution_count": 6,
   "id": "e014e63e-43f9-41c3-ae0c-42c7f745690c",
   "metadata": {},
   "outputs": [],
   "source": [
    "import numpy as np\n",
    "import json\n",
    "from cad_viewer_widget import CadViewer"
   ]
  },
  {
   "cell_type": "code",
   "execution_count": 7,
   "id": "06d7a35d-c99c-47d7-94d3-622f21559f86",
   "metadata": {},
   "outputs": [],
   "source": [
    "box1 = {\n",
    "    \"name\": \"Group\",\n",
    "    \"id\": \"/Group\",\n",
    "    \"loc\": None,\n",
    "    \"parts\": [\n",
    "        {\n",
    "            \"type\": \"shapes\",\n",
    "            \"id\": \"/Group/Part_0\",            \n",
    "            \"name\": \"Part_0\",\n",
    "            \"color\": \"#e8b024\",            \n",
    "            \"shape\": {\n",
    "                \"vertices\": np.asarray([\n",
    "                    [-0.5, -0.5, -0.5],\n",
    "                    [-0.5, -0.5, 0.5],\n",
    "                    [-0.5, 0.5, -0.5],\n",
    "                    [-0.5, 0.5, 0.5],\n",
    "                    [0.5, -0.5, -0.5],\n",
    "                    [0.5, -0.5, 0.5],\n",
    "                    [0.5, 0.5, -0.5],\n",
    "                    [0.5, 0.5, 0.5],\n",
    "                    [-0.5, -0.5, -0.5],\n",
    "                    [0.5, -0.5, -0.5],\n",
    "                    [-0.5, -0.5, 0.5],\n",
    "                    [0.5, -0.5, 0.5],\n",
    "                    [-0.5, 0.5, -0.5],\n",
    "                    [0.5, 0.5, -0.5],\n",
    "                    [-0.5, 0.5, 0.5],\n",
    "                    [0.5, 0.5, 0.5],\n",
    "                    [-0.5, -0.5, -0.5],\n",
    "                    [-0.5, 0.5, -0.5],\n",
    "                    [0.5, -0.5, -0.5],\n",
    "                    [0.5, 0.5, -0.5],\n",
    "                    [-0.5, -0.5, 0.5],\n",
    "                    [-0.5, 0.5, 0.5],\n",
    "                    [0.5, -0.5, 0.5],\n",
    "                    [0.5, 0.5, 0.5]\n",
    "                ]),\n",
    "                \"triangles\": [\n",
    "                    1, 2, 0, \n",
    "                    1, 3, 2, \n",
    "                    5, 4, 6, \n",
    "                    5, 6, 7, \n",
    "                    11, 8, 9, \n",
    "                    11, 10, 8, \n",
    "                    15, 13, 12, \n",
    "                    15, 12, 14, \n",
    "                    19, 16, 17, \n",
    "                    19, 18, 16, \n",
    "                    23, 21, 20, \n",
    "                    23, 20, 22],\n",
    "                \"normals\": np.asarray([\n",
    "                    [-1.0, -0.0, 0.0],\n",
    "                    [-1.0, -0.0, 0.0],\n",
    "                    [-1.0, -0.0, 0.0],\n",
    "                    [-1.0, -0.0, 0.0],\n",
    "                    [1.0, 0.0, -0.0],\n",
    "                    [1.0, 0.0, -0.0],\n",
    "                    [1.0, 0.0, -0.0],\n",
    "                    [1.0, 0.0, -0.0],\n",
    "                    [-0.0, -1.0, -0.0],\n",
    "                    [-0.0, -1.0, -0.0],\n",
    "                    [-0.0, -1.0, -0.0],\n",
    "                    [-0.0, -1.0, -0.0],\n",
    "                    [0.0, 1.0, 0.0],\n",
    "                    [0.0, 1.0, 0.0],\n",
    "                    [0.0, 1.0, 0.0],\n",
    "                    [0.0, 1.0, 0.0],\n",
    "                    [-0.0, -0.0, -1.0],\n",
    "                    [-0.0, -0.0, -1.0],\n",
    "                    [-0.0, -0.0, -1.0],\n",
    "                    [-0.0, -0.0, -1.0],\n",
    "                    [0.0, 0.0, 1.0],\n",
    "                    [0.0, 0.0, 1.0],\n",
    "                    [0.0, 0.0, 1.0],\n",
    "                    [0.0, 0.0, 1.0]\n",
    "                ]),\n",
    "                \"edges\": np.asarray([\n",
    "                        [[-0.5, -0.5, -0.5], [-0.5, -0.5, 0.5]],\n",
    "                        [[-0.5, -0.5, 0.5], [-0.5, 0.5, 0.5]],\n",
    "                        [[-0.5, 0.5, -0.5], [-0.5, 0.5, 0.5]],\n",
    "                        [[-0.5, -0.5, -0.5], [-0.5, 0.5, -0.5]],\n",
    "                        [[0.5, -0.5, -0.5], [0.5, -0.5, 0.5]],\n",
    "                        [[0.5, -0.5, 0.5], [0.5, 0.5, 0.5]],\n",
    "                        [[0.5, 0.5, -0.5], [0.5, 0.5, 0.5]],\n",
    "                        [[0.5, -0.5, -0.5], [0.5, 0.5, -0.5]],\n",
    "                        [[-0.5, -0.5, -0.5], [0.5, -0.5, -0.5]],\n",
    "                        [[-0.5, -0.5, 0.5], [0.5, -0.5, 0.5]],\n",
    "                        [[-0.5, 0.5, -0.5], [0.5, 0.5, -0.5]],\n",
    "                        [[-0.5, 0.5, 0.5], [0.5, 0.5, 0.5]]\n",
    "                ])\n",
    "            }\n",
    "        }\n",
    "    ]\n",
    "}\n",
    "\n",
    "\n",
    "states = { \"/Group/Part_0\":[1,1] }"
   ]
  },
  {
   "cell_type": "code",
   "execution_count": 8,
   "id": "a9f4b252-28df-4551-a8ed-bba03c6f02ce",
   "metadata": {},
   "outputs": [
    {
     "data": {
      "text/html": [
       "<link rel=\"stylesheet\" href=\"https://unpkg.com/three-cad-viewer@0.9.0-beta.11/dist/three-cad-viewer.css\">"
      ],
      "text/plain": [
       "<IPython.core.display.HTML object>"
      ]
     },
     "metadata": {},
     "output_type": "display_data"
    },
    {
     "data": {
      "application/vnd.jupyter.widget-view+json": {
       "model_id": "9d978e63f0fd4ae5a11aa70e540ad0d9",
       "version_major": 2,
       "version_minor": 0
      },
      "text/plain": [
       "CadViewerWidget(options={'cadWidth': 640, 'height': 480, 'theme': 'light', 'treeWidth': 240, 'needsAnimationLo…"
      ]
     },
     "metadata": {},
     "output_type": "display_data"
    }
   ],
   "source": [
    "cv = CadViewer(options={\"cadWidth\":640, \"height\":480, \"theme\":\"light\"})\n",
    "cv.add_shapes(box1, states, options={})"
   ]
  },
  {
   "cell_type": "code",
   "execution_count": 9,
   "id": "6790e14e-df84-4f5a-80c6-e8ffb433d7a9",
   "metadata": {},
   "outputs": [],
   "source": [
    "cv.add_shapes(box1, states, options={})"
   ]
  },
  {
   "cell_type": "code",
   "execution_count": 10,
   "id": "74899046-f6de-4df7-bc14-32ab6fdb1516",
   "metadata": {},
   "outputs": [
    {
     "data": {
      "text/plain": [
       "{'msg_id': 1, 'result': {}}"
      ]
     },
     "execution_count": 10,
     "metadata": {},
     "output_type": "execute_result"
    }
   ],
   "source": [
    "result = cv.execute(\"viewer.camera.position\", \"set\", (1, 1, .1), None, True)\n",
    "result"
   ]
  },
  {
   "cell_type": "code",
   "execution_count": 12,
   "id": "018b52e1-6963-4ce9-b1d0-c8f315e7487c",
   "metadata": {
    "tags": []
   },
   "outputs": [
    {
     "name": "stdout",
     "output_type": "stream",
     "text": [
      "1\n",
      "{'x': 0.9999999999999997, 'y': 0.9999999999999996, 'z': 0.09999999999999992}\n"
     ]
    }
   ],
   "source": [
    "print(result[\"msg_id\"])\n",
    "print(cv.results[result[\"msg_id\"]])"
   ]
  },
  {
   "cell_type": "code",
   "execution_count": 13,
   "id": "c1137e2a-add1-4c9f-9eb0-fac256e11be0",
   "metadata": {},
   "outputs": [
    {
     "data": {
      "text/plain": [
       "{'msg_id': 2,\n",
       " 'result': {1: {'x': 0.9999999999999997,\n",
       "   'y': 0.9999999999999996,\n",
       "   'z': 0.09999999999999992}}}"
      ]
     },
     "execution_count": 13,
     "metadata": {},
     "output_type": "execute_result"
    }
   ],
   "source": [
    "cv.execute(\"viewer.camera.zoom\", \"=\", 0.8, None, True)"
   ]
  },
  {
   "cell_type": "code",
   "execution_count": 14,
   "id": "86ad447e-604a-45e6-8dda-ed221aaa6df3",
   "metadata": {},
   "outputs": [
    {
     "data": {
      "text/plain": [
       "{'msg_id': 3,\n",
       " 'result': {1: {'x': 0.9999999999999997,\n",
       "   'y': 0.9999999999999996,\n",
       "   'z': 0.09999999999999992},\n",
       "  2: [0.8]}}"
      ]
     },
     "execution_count": 14,
     "metadata": {},
     "output_type": "execute_result"
    }
   ],
   "source": [
    "cv.execute(\"viewer\", \"switchCamera\", False)"
   ]
  },
  {
   "cell_type": "code",
   "execution_count": null,
   "id": "25bbb4b3-4fad-4dd1-8d40-90a26a00d13a",
   "metadata": {},
   "outputs": [],
   "source": []
  }
 ],
 "metadata": {
  "kernelspec": {
   "display_name": "Python 3",
   "language": "python",
   "name": "python3"
  },
  "language_info": {
   "codemirror_mode": {
    "name": "ipython",
    "version": 3
   },
   "file_extension": ".py",
   "mimetype": "text/x-python",
   "name": "python",
   "nbconvert_exporter": "python",
   "pygments_lexer": "ipython3",
   "version": "3.8.10"
  },
  "widgets": {
   "application/vnd.jupyter.widget-state+json": {
    "state": {
     "0691ca464cef4c26a608114c929b12e5": {
      "model_module": "cad-viewer-widget",
      "model_module_version": "^0.1.0",
      "model_name": "CadViewerModel",
      "state": {
       "_model_module_version": "^0.1.0",
       "_view_module_version": "^0.1.0",
       "options": {
        "ambientIntensity": 0.9,
        "cadWidth": 640,
        "directIntensity": 0.12,
        "height": 480,
        "measure": false,
        "needsAnimationLoop": false,
        "normalLen": 0,
        "ortho": true,
        "theme": "light",
        "treeWidth": 240
       },
       "shapes": {
        "options": {
         "ambientIntensity": 0.9,
         "cadWidth": 640,
         "directIntensity": 0.12,
         "height": 480,
         "needsAnimationLoop": false,
         "normalLen": 0,
         "ortho": true,
         "theme": "light",
         "treeWidth": 240
        },
        "shapes": "{\"name\": \"Group\", \"id\": \"/Group\", \"loc\": null, \"parts\": [{\"type\": \"shapes\", \"id\": \"/Group/Part_0\", \"name\": \"Part_0\", \"color\": \"#e8b024\", \"shape\": {\"vertices\": [\"_f32\", [24, 3], \"eJxjYGDYz4CJ7dFoGNseixg2OWxq0c1DNxebvdjsQ8ekuB2XOlxutwcA8hQjuQ==\"], \"triangles\": [1, 2, 0, 1, 3, 2, 5, 4, 6, 5, 6, 7, 11, 8, 9, 11, 10, 8, 15, 13, 12, 15, 12, 14, 19, 16, 17, 19, 18, 16, 23, 21, 20, 23, 20, 22], \"normals\": [\"_f32\", [24, 3], \"eJxjYGjYz8DA0MAABkSx7RmgDOLYYP5+EtjIdhDDJtUOYs0FswFs8yPp\"], \"edges\": [\"_f32\", [12, 2, 3], \"eJxjYGDYz4CJ7bGw7dHY+7GIYzODGLOwYWxyxNqJLobuFmzuwOoWACIjI7k=\"]}}]}",
        "states": {
         "/Group/Part_0": [
          1,
          1
         ]
        }
       },
       "tracks": []
      }
     },
     "9d978e63f0fd4ae5a11aa70e540ad0d9": {
      "model_module": "cad-viewer-widget",
      "model_module_version": "^0.1.0",
      "model_name": "CadViewerModel",
      "state": {
       "_model_module_version": "^0.1.0",
       "_view_module_version": "^0.1.0",
       "options": {
        "ambientIntensity": 0.9,
        "cadWidth": 640,
        "directIntensity": 0.12,
        "height": 480,
        "measure": false,
        "needsAnimationLoop": false,
        "normalLen": 0,
        "ortho": true,
        "theme": "light",
        "treeWidth": 240
       },
       "shapes": {
        "options": {
         "ambientIntensity": 0.9,
         "cadWidth": 640,
         "directIntensity": 0.12,
         "height": 480,
         "needsAnimationLoop": false,
         "normalLen": 0,
         "ortho": true,
         "theme": "light",
         "treeWidth": 240
        },
        "shapes": "{\"name\": \"Group\", \"id\": \"/Group\", \"loc\": null, \"parts\": [{\"type\": \"shapes\", \"id\": \"/Group/Part_0\", \"name\": \"Part_0\", \"color\": \"#e8b024\", \"shape\": {\"vertices\": [\"_f32\", [24, 3], \"eJxjYGDYz4CJ7dFoGNseixg2OWxq0c1DNxebvdjsQ8ekuB2XOlxutwcA8hQjuQ==\"], \"triangles\": [1, 2, 0, 1, 3, 2, 5, 4, 6, 5, 6, 7, 11, 8, 9, 11, 10, 8, 15, 13, 12, 15, 12, 14, 19, 16, 17, 19, 18, 16, 23, 21, 20, 23, 20, 22], \"normals\": [\"_f32\", [24, 3], \"eJxjYGjYz8DA0MAABkSx7RmgDOLYYP5+EtjIdhDDJtUOYs0FswFs8yPp\"], \"edges\": [\"_f32\", [12, 2, 3], \"eJxjYGDYz4CJ7bGw7dHY+7GIYzODGLOwYWxyxNqJLobuFmzuwOoWACIjI7k=\"]}}]}",
        "states": {
         "/Group/Part_0": [
          1,
          1
         ]
        }
       },
       "tracks": []
      }
     }
    },
    "version_major": 2,
    "version_minor": 0
   }
  }
 },
 "nbformat": 4,
 "nbformat_minor": 5
}
