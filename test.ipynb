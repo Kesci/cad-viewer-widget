{
 "cells": [
  {
   "cell_type": "markdown",
   "id": "300fc4db-7af9-4dca-beb0-39fe0b30d418",
   "metadata": {},
   "source": [
    "# The Viewer"
   ]
  },
  {
   "cell_type": "code",
   "execution_count": null,
   "id": "e54596f1-61d6-4704-90de-a405f8fe6b00",
   "metadata": {},
   "outputs": [],
   "source": [
    "import numpy as np\n",
    "import json\n",
    "import time\n",
    "import ipywidgets as widgets\n",
    "from cad_viewer_widget import CadViewer, AnimationTrack\n",
    "from sidecar import Sidecar\n",
    "\n",
    "names = [\"hexapod\", \"hexapod_m\", \"box\", \"box1\", \"boxes\", \"edges\", \"faces\", \"vertices\"]\n",
    "objects = {}\n",
    "states = {}\n",
    "\n",
    "for name in names:\n",
    "    with open(f\"examples/{name}.json\", \"r\") as fd:\n",
    "        objects[name] = json.load(fd)\n",
    "\n",
    "    with open(f\"examples/{name}-states.json\", \"r\") as fd:\n",
    "        states[name] = json.load(fd)"
   ]
  },
  {
   "cell_type": "markdown",
   "id": "426a0d16-53eb-4020-adad-55efd39fb1f5",
   "metadata": {},
   "source": [
    "## Open viewer in cell"
   ]
  },
  {
   "cell_type": "code",
   "execution_count": null,
   "id": "a081c018-0357-43e0-8c83-337179bafeb3",
   "metadata": {},
   "outputs": [],
   "source": [
    "cv2 = CadViewer(\n",
    "    cad_width=640, \n",
    "    height=480, \n",
    "    tools=True,\n",
    ")"
   ]
  },
  {
   "cell_type": "code",
   "execution_count": null,
   "id": "628eeeaa-2e2c-4e59-b280-3c647a58cb11",
   "metadata": {},
   "outputs": [],
   "source": [
    "cv2.add_shapes(\n",
    "        objects[\"hexapod\"],\n",
    "        states[\"hexapod\"],\n",
    "        ortho=False,\n",
    "        control=\"orbit\",\n",
    "        grid=(True, False, True)\n",
    ")"
   ]
  },
  {
   "cell_type": "code",
   "execution_count": null,
   "id": "f32e38d8-cecd-456c-a722-4756c7142b2d",
   "metadata": {},
   "outputs": [],
   "source": [
    "from ipywidgets.embed import embed_minimal_html\n",
    "# !!! sc.close()\n",
    "embed_minimal_html('export.html', views=[cv2.widget], title='Widgets export')"
   ]
  },
  {
   "cell_type": "code",
   "execution_count": null,
   "id": "78bd48df-b6c9-4939-bd80-2ea47be42ef3",
   "metadata": {},
   "outputs": [],
   "source": [
    "sc = Sidecar(title=\"Tests\")\n",
    "\n",
    "with sc:\n",
    "    cv = CadViewer(\n",
    "        cad_width=640, \n",
    "        height=480, \n",
    "        tree_width=250, \n",
    "        theme=\"light\", \n",
    "        tools=True\n",
    "    )"
   ]
  },
  {
   "cell_type": "markdown",
   "id": "fe9dd08c-4a59-43d9-923a-8b93707fe67d",
   "metadata": {},
   "source": [
    "## Observe Javascript events"
   ]
  },
  {
   "cell_type": "code",
   "execution_count": null,
   "id": "819cff18-3c2c-467d-8d44-354b3606225e",
   "metadata": {},
   "outputs": [],
   "source": [
    "cv.js_debug = True"
   ]
  },
  {
   "cell_type": "markdown",
   "id": "6847f42d-0bba-4b60-aa70-d1f77df57d5c",
   "metadata": {},
   "source": [
    "## Adding shapes"
   ]
  },
  {
   "cell_type": "code",
   "execution_count": null,
   "id": "2047d07b-2653-479f-b9cc-29b3947d9496",
   "metadata": {},
   "outputs": [],
   "source": [
    "def show(name):\n",
    "    cv.add_shapes(\n",
    "        objects[name],\n",
    "        states[name],\n",
    "        ortho=True,\n",
    "        control=\"trackball\",\n",
    "        ticks=20,\n",
    "        axes=True,\n",
    "        axes0=False,\n",
    "        grid=[True, False, False], \n",
    "        transparent=False,\n",
    "        black_edges=False,\n",
    "        edge_color=\"#707070\",\n",
    "        ambient_intensity=0.5,\n",
    "        direct_intensity=0.3,\n",
    "        reset_camera=True,\n",
    "    #    position=[-580.0, 200.0, 750.0],\n",
    "    #    quaternion=[-0.33, 0.026, 0.91, 0.24],\n",
    "    #    zoom=0.5,\n",
    "    #    timeit=True,\n",
    "    #    animation_loop=False\n",
    "    )\n",
    "\n",
    "menu = widgets.Dropdown(\n",
    "    options=names,\n",
    "    value=names[0],\n",
    "    description='Number:',\n",
    "    disabled=False,\n",
    ")\n",
    "\n",
    "def on_change(change):\n",
    "    if change['type'] == 'change' and change['name'] == 'value':\n",
    "        show(change['new'])\n",
    "\n",
    "menu.observe(on_change)\n",
    "\n",
    "show(names[0])\n",
    "menu"
   ]
  },
  {
   "cell_type": "markdown",
   "id": "da05a3f4-5077-46aa-8605-60f901683582",
   "metadata": {},
   "source": [
    "# Camera position control"
   ]
  },
  {
   "cell_type": "code",
   "execution_count": null,
   "id": "dfc24b91-eacb-4d21-809d-5fd0c599e981",
   "metadata": {},
   "outputs": [],
   "source": [
    "p0 = cv.position\n",
    "if cv.control == \"trackball\":\n",
    "    q0 = cv.quaternion\n",
    "else:\n",
    "    q0 = None\n",
    "p0, q0"
   ]
  },
  {
   "cell_type": "code",
   "execution_count": null,
   "id": "73daae57-3e17-4be3-be0f-a18f03c2135d",
   "metadata": {},
   "outputs": [],
   "source": [
    "cv.position = [-580.0, 200.0, 750.0]\n",
    "\n",
    "if cv.control == \"trackball\":\n",
    "    cv.quaternion = [-0.33, 0.026, 0.91, 0.24]\n",
    "\n",
    "cv.zoom = 0.5"
   ]
  },
  {
   "cell_type": "code",
   "execution_count": null,
   "id": "864f4d05-7e5a-4242-9ee5-ed9b3f9a41ad",
   "metadata": {},
   "outputs": [],
   "source": [
    "cv.position = p0\n",
    "\n",
    "if cv.control == \"trackball\":\n",
    "    cv.quaternion = q0\n",
    "    \n",
    "cv.zoom = 1"
   ]
  },
  {
   "cell_type": "markdown",
   "id": "ceca8f0b-8b51-4748-b36a-72f358a2284a",
   "metadata": {},
   "source": [
    "# Widget interaction"
   ]
  },
  {
   "cell_type": "code",
   "execution_count": null,
   "id": "032a0f61-2e70-4ab6-8f94-44495c41af2a",
   "metadata": {},
   "outputs": [],
   "source": [
    "cv.update_states({\n",
    "    '/bottom/bottom_0': (1,0),\n",
    "    '/bottom/top/top_0': [0,1],\n",
    "})"
   ]
  },
  {
   "cell_type": "code",
   "execution_count": null,
   "id": "5502d27e-17d3-4fb5-9fb0-5e603880c0ed",
   "metadata": {},
   "outputs": [],
   "source": [
    "cv.update_states({\n",
    "    '/bottom/bottom_0': (1,1),\n",
    "    '/bottom/top/top_0': [1,1],\n",
    "})"
   ]
  },
  {
   "cell_type": "code",
   "execution_count": null,
   "id": "ab92c5c8-091e-4696-9dd9-d0034dada310",
   "metadata": {},
   "outputs": [],
   "source": [
    "cv.ambient_intensity = 0.9\n",
    "cv.direct_intensity = 0.5"
   ]
  },
  {
   "cell_type": "code",
   "execution_count": null,
   "id": "0576ffc8-4578-4b45-8649-ef44f110cca6",
   "metadata": {},
   "outputs": [],
   "source": [
    "cv.ambient_intensity = 0.5\n",
    "cv.direct_intensity = 0.3"
   ]
  },
  {
   "cell_type": "code",
   "execution_count": null,
   "id": "4273581f-adb9-4eb1-89f1-4cc3248c828a",
   "metadata": {},
   "outputs": [],
   "source": [
    "ec = cv.edge_color"
   ]
  },
  {
   "cell_type": "code",
   "execution_count": null,
   "id": "ceda6296-2709-4f7c-ad32-55d3f316177d",
   "metadata": {},
   "outputs": [],
   "source": [
    "cv.edge_color = \"#ff0000\""
   ]
  },
  {
   "cell_type": "code",
   "execution_count": null,
   "id": "4e5f659b-9543-4aae-8f9d-99a8d4abf597",
   "metadata": {},
   "outputs": [],
   "source": [
    "cv.edge_color = ec"
   ]
  },
  {
   "cell_type": "code",
   "execution_count": null,
   "id": "83d2fa2a-3dc9-4cc3-b7ac-628e05c18c2f",
   "metadata": {},
   "outputs": [],
   "source": [
    "cv.grid = [not g for g in cv.widget.grid]"
   ]
  },
  {
   "cell_type": "code",
   "execution_count": null,
   "id": "26e92be6-06d4-442f-8007-f2c993e97b2e",
   "metadata": {},
   "outputs": [],
   "source": [
    "cv.axes = not cv.axes\n",
    "cv.axes0 = not cv.axes0\n",
    "cv.transparent = not cv.transparent\n",
    "cv.black_edges = not cv.black_edges"
   ]
  },
  {
   "cell_type": "code",
   "execution_count": null,
   "id": "cd49e3cc-c8dd-4a09-a54a-032169b1d906",
   "metadata": {},
   "outputs": [],
   "source": [
    "cv.tools = not cv.tools"
   ]
  },
  {
   "cell_type": "code",
   "execution_count": null,
   "id": "ed5ac81a-a329-4f5a-ab0a-f91ff6b6d9c9",
   "metadata": {},
   "outputs": [],
   "source": [
    "cv.ortho = not cv.ortho"
   ]
  },
  {
   "cell_type": "code",
   "execution_count": null,
   "id": "1135f786-8f67-40b1-9d37-07c7faaeda6f",
   "metadata": {},
   "outputs": [],
   "source": [
    "cv.zoom_speed = 5\n",
    "cv.pan_speed = 5\n",
    "cv.rotate_speed = 5"
   ]
  },
  {
   "cell_type": "code",
   "execution_count": null,
   "id": "982397ff-1c84-4dba-8e24-c17351da4e91",
   "metadata": {},
   "outputs": [],
   "source": [
    "cv.zoom_speed =1\n",
    "cv.pan_speed =1\n",
    "cv.rotate_speed =1"
   ]
  },
  {
   "cell_type": "code",
   "execution_count": null,
   "id": "acf94bf4-1830-427a-bd7d-1b1cff945951",
   "metadata": {},
   "outputs": [],
   "source": [
    "cv.last_pick"
   ]
  },
  {
   "cell_type": "markdown",
   "id": "874c1bb1-38ad-42ae-aef4-c1f62888d7c9",
   "metadata": {},
   "source": [
    "# Clipping handling"
   ]
  },
  {
   "cell_type": "code",
   "execution_count": null,
   "id": "2ca1f312-491c-44c8-a21c-45913e4784d7",
   "metadata": {},
   "outputs": [],
   "source": [
    "cv.select_clipping()"
   ]
  },
  {
   "cell_type": "code",
   "execution_count": null,
   "id": "db5ad755-39c3-42f8-a130-5d9528f7613f",
   "metadata": {},
   "outputs": [],
   "source": [
    "cv.clip_intersection = not cv.clip_intersection"
   ]
  },
  {
   "cell_type": "code",
   "execution_count": null,
   "id": "49a5e5ea-b0b9-4876-9620-b574cfe5d7a6",
   "metadata": {},
   "outputs": [],
   "source": [
    "cv.clip_planes = not cv.clip_planes"
   ]
  },
  {
   "cell_type": "code",
   "execution_count": null,
   "id": "e64fe54a-756d-4a67-931f-4bcc7c3f77ee",
   "metadata": {},
   "outputs": [],
   "source": [
    "cv.clip_value_0 = 10\n",
    "cv.clip_value_1 = -50\n",
    "cv.clip_value_2 = 40"
   ]
  },
  {
   "cell_type": "code",
   "execution_count": null,
   "id": "96ed0bf9-dcac-4b4a-bb74-0dac28fb9797",
   "metadata": {},
   "outputs": [],
   "source": [
    "cv.clip_normal_0"
   ]
  },
  {
   "cell_type": "code",
   "execution_count": null,
   "id": "02503b30-d19b-4890-ae71-b3782b15abb0",
   "metadata": {},
   "outputs": [],
   "source": [
    "cv.clip_value_2"
   ]
  },
  {
   "cell_type": "code",
   "execution_count": null,
   "id": "f96ca9e5-8313-4f15-a6b2-c61adf7330c8",
   "metadata": {},
   "outputs": [],
   "source": [
    "cv.clip_normal_0 = (-0.35, -0.35, -0.35)"
   ]
  },
  {
   "cell_type": "code",
   "execution_count": null,
   "id": "34a375de-e4a2-4f45-aa2d-bae55e98a456",
   "metadata": {},
   "outputs": [],
   "source": [
    "cv.clip_normal_0 = (-1, 0, 0)"
   ]
  },
  {
   "cell_type": "code",
   "execution_count": null,
   "id": "18ec7a77-835b-4a37-9b1d-0aed8f291770",
   "metadata": {},
   "outputs": [],
   "source": [
    "cv.select_tree()"
   ]
  },
  {
   "cell_type": "markdown",
   "id": "ddb9b01a-5938-4e3b-b945-240f5d09b8b3",
   "metadata": {},
   "source": [
    "# Rotations"
   ]
  },
  {
   "cell_type": "code",
   "execution_count": null,
   "id": "a3cda18f-d084-4e52-811a-345939cea802",
   "metadata": {},
   "outputs": [],
   "source": [
    "for i in range(10):\n",
    "    cv.rotate_x(1)\n",
    "    cv.rotate_y(3)\n",
    "    cv.rotate_z(5)\n",
    "    time.sleep(0.1)"
   ]
  },
  {
   "cell_type": "code",
   "execution_count": null,
   "id": "7f8f2a28-f30c-4e00-a550-bef49d9b2666",
   "metadata": {},
   "outputs": [],
   "source": [
    "for i in range(10):\n",
    "    cv.rotate_z(-5)\n",
    "    cv.rotate_y(-3)\n",
    "    cv.rotate_x(-1)\n",
    "    time.sleep(0.1)    "
   ]
  },
  {
   "cell_type": "code",
   "execution_count": null,
   "id": "bc11d0ff-ff49-4d28-b4fd-a188b8550d03",
   "metadata": {},
   "outputs": [],
   "source": [
    "cv.rotate_up(30)\n",
    "cv.rotate_left(30)"
   ]
  },
  {
   "cell_type": "code",
   "execution_count": null,
   "id": "9204431d-d108-4505-938e-3f04c7b70399",
   "metadata": {},
   "outputs": [],
   "source": [
    "cv.rotate_left(-30)\n",
    "cv.rotate_up(-30)"
   ]
  },
  {
   "cell_type": "markdown",
   "id": "65521ed7-512d-40d7-b4b0-0803604adf04",
   "metadata": {},
   "source": [
    "# Animation"
   ]
  },
  {
   "cell_type": "code",
   "execution_count": null,
   "id": "77997f4b-6c74-4f62-b257-9d7e06e62f74",
   "metadata": {},
   "outputs": [],
   "source": [
    "cv = cv2"
   ]
  },
  {
   "cell_type": "code",
   "execution_count": null,
   "id": "176fb700-592d-4bd5-adfb-0728e5dde472",
   "metadata": {},
   "outputs": [],
   "source": [
    "import numpy as np\n",
    "horizontal_angle = 25\n",
    "\n",
    "leg_names = {\n",
    "    \"right_back\", \"right_middle\", \"right_front\", \n",
    "    \"left_back\",  \"left_middle\", \"left_front\",\n",
    "    \n",
    "}\n",
    "\n",
    "def intervals(count):\n",
    "    r = [ min(180, (90 + i*(360 // count)) % 360) for i in range(count)]\n",
    "    return r \n",
    "\n",
    "def times(end, count):\n",
    "    return np.linspace(0, end, count+1).tolist()\n",
    "    \n",
    "def vertical(count, end, offset, reverse):\n",
    "    ints = intervals(count)\n",
    "    heights = [round(35 * np.sin(np.deg2rad(x)) - 15, 1) for x in ints]\n",
    "    heights.append(heights[0])\n",
    "    return times(end, count), heights[offset:] + heights[1:offset+1]\n",
    "\n",
    "def horizontal(end, reverse):\n",
    "    factor = 1 if reverse else -1\n",
    "    return times(end, 4), [0, factor * horizontal_angle, 0, -factor * horizontal_angle, 0]\n",
    "\n",
    "leg_group = (\"left_front\", \"right_middle\", \"left_back\")"
   ]
  },
  {
   "cell_type": "code",
   "execution_count": null,
   "id": "a3bd1c42-e2d8-46a5-ae2e-3701f326fa3b",
   "metadata": {},
   "outputs": [],
   "source": [
    "tracks = []\n",
    "\n",
    "for name in leg_names:\n",
    "    # move upper leg\n",
    "    cv.add_track(AnimationTrack(f\"/bottom/{name}\", \"rz\", *horizontal(4, \"middle\" in name)))\n",
    "\n",
    "cv.animate(5)\n",
    "cv.play()"
   ]
  },
  {
   "cell_type": "code",
   "execution_count": null,
   "id": "4412ef36-c26f-41fc-ac4e-bacf01010b26",
   "metadata": {},
   "outputs": [],
   "source": [
    "cv.stop()"
   ]
  },
  {
   "cell_type": "code",
   "execution_count": null,
   "id": "84324b37-905f-4f11-957a-2cf5c3134ca6",
   "metadata": {},
   "outputs": [],
   "source": [
    "for name in leg_names:\n",
    "    # move lower leg\n",
    "    cv.add_track(AnimationTrack(f\"/bottom/{name}/lower\", \"rz\", *vertical(8, 4, 0 if name in leg_group else 4, \"left\" in name)))\n",
    "    \n",
    "cv.animate(2)\n",
    "cv.play()"
   ]
  },
  {
   "cell_type": "code",
   "execution_count": null,
   "id": "69ee5825-ec43-422d-903f-bed194c15aa6",
   "metadata": {},
   "outputs": [],
   "source": [
    "cv.clear_tracks()"
   ]
  },
  {
   "cell_type": "markdown",
   "id": "59d2fa28-d44d-4911-8b61-6f4284507643",
   "metadata": {},
   "source": [
    "# No Widget, Javascript only"
   ]
  },
  {
   "cell_type": "code",
   "execution_count": null,
   "id": "bdfaa79e-3e14-4a49-b329-9ea73db934f8",
   "metadata": {},
   "outputs": [],
   "source": [
    "import json\n",
    "from IPython.display import Javascript, HTML\n",
    "from cad_viewer_widget.utils import serializer"
   ]
  },
  {
   "cell_type": "code",
   "execution_count": null,
   "id": "00385a40-2669-499a-ae91-5be0da652d4b",
   "metadata": {},
   "outputs": [],
   "source": [
    "display(Javascript(\"\"\"\n",
    "var script = document.createElement('script');\n",
    "script.type = 'text/javascript';\n",
    "script.src = 'http://banach:8888/lab/extensions/cad-viewer-widget/static/lib_index_js.b616f2d187f2f136095a.js';\n",
    "document.head.appendChild(script);\n",
    "\"\"\"))"
   ]
  },
  {
   "cell_type": "code",
   "execution_count": null,
   "id": "f5a552fb-d512-42b2-af89-c459199a6f72",
   "metadata": {},
   "outputs": [],
   "source": [
    "shapes = json.dumps(objects[\"box1\"], default=serializer)\n",
    "states2 = json.dumps(states[\"box1\"])\n",
    "\n",
    "display(HTML(\"<div id='cad_view'></div>\"))\n",
    "\n",
    "display(Javascript(f\"\"\"\n",
    "const options = {{\n",
    "    theme: \"light\",\n",
    "    ortho: true,\n",
    "    control: \"trackball\",\n",
    "    // control: \"orbit\",\n",
    "    normalLen: 0,\n",
    "    cadWidth: 800,\n",
    "    height: 600,\n",
    "    treeWidth: 240,\n",
    "    ticks: 10,\n",
    "    normalLen: 0,\n",
    "    ambientIntensity: 0.9,\n",
    "    directIntensity: 0.12,\n",
    "    transparent: false,\n",
    "    blackEdges: false,\n",
    "    axes: true,\n",
    "    grid: [false, false, false], \n",
    "    timeit: false,\n",
    "    rotateSpeed: 1\n",
    "}};\n",
    "\n",
    "const container = document.getElementById(\"cad_view\");\n",
    "const display = new Display(container, options);\n",
    "display.setAnimationControl(false)\n",
    "const shapes = JSON.parse('{shapes}');\n",
    "const states = JSON.parse('{states2}');\n",
    "console.log(shapes)\n",
    "console.log(states)\n",
    "\"\"\"))\n"
   ]
  },
  {
   "cell_type": "code",
   "execution_count": null,
   "id": "23191ae5-2c9b-4cfb-9a3e-06fa4f254fed",
   "metadata": {},
   "outputs": [],
   "source": [
    "sc.close()"
   ]
  },
  {
   "cell_type": "code",
   "execution_count": null,
   "id": "27b24d61-ef0a-414f-af47-decdc2ecb547",
   "metadata": {},
   "outputs": [],
   "source": [
    "print(\"[[\\\"/bottom/right_front\\\", \\\"rz\\\", [0.0, 1.0, 2.0, 3.0, 4.0], [0, -25, 0, 25, 0]], [\\\"/bottom/left_middle\\\", \\\"rz\\\", [0.0, 1.0, 2.0, 3.0, 4.0], [0, 25, 0, -25, 0]], [\\\"/bottom/left_front\\\", \\\"rz\\\", [0.0, 1.0, 2.0, 3.0, 4.0], [0, -25, 0, 25, 0]], [\\\"/bottom/right_middle\\\", \\\"rz\\\", [0.0, 1.0, 2.0, 3.0, 4.0], [0, 25, 0, -25, 0]], [\\\"/bottom/left_back\\\", \\\"rz\\\", [0.0, 1.0, 2.0, 3.0, 4.0], [0, -25, 0, 25, 0]], [\\\"/bottom/right_back\\\", \\\"rz\\\", [0.0, 1.0, 2.0, 3.0, 4.0], [0, -25, 0, 25, 0]], [\\\"/bottom/right_front/lower\\\", \\\"rz\\\", [0.0, 0.5, 1.0, 1.5, 2.0, 2.5, 3.0, 3.5, 4.0], [-15.0, -15.0, -15.0, 9.7, 20.0, 9.7, -15.0, -15.0, -15.0]], [\\\"/bottom/left_middle/lower\\\", \\\"rz\\\", [0.0, 0.5, 1.0, 1.5, 2.0, 2.5, 3.0, 3.5, 4.0], [-15.0, -15.0, -15.0, 9.7, 20.0, 9.7, -15.0, -15.0, -15.0]], [\\\"/bottom/left_front/lower\\\", \\\"rz\\\", [0.0, 0.5, 1.0, 1.5, 2.0, 2.5, 3.0, 3.5, 4.0], [20.0, 9.7, -15.0, -15.0, -15.0, -15.0, -15.0, 9.7, 20.0]], [\\\"/bottom/right_middle/lower\\\", \\\"rz\\\", [0.0, 0.5, 1.0, 1.5, 2.0, 2.5, 3.0, 3.5, 4.0], [20.0, 9.7, -15.0, -15.0, -15.0, -15.0, -15.0, 9.7, 20.0]], [\\\"/bottom/left_back/lower\\\", \\\"rz\\\", [0.0, 0.5, 1.0, 1.5, 2.0, 2.5, 3.0, 3.5, 4.0], [20.0, 9.7, -15.0, -15.0, -15.0, -15.0, -15.0, 9.7, 20.0]], [\\\"/bottom/right_back/lower\\\", \\\"rz\\\", [0.0, 0.5, 1.0, 1.5, 2.0, 2.5, 3.0, 3.5, 4.0], [-15.0, -15.0, -15.0, 9.7, 20.0, 9.7, -15.0, -15.0, -15.0]]]\")"
   ]
  },
  {
   "cell_type": "code",
   "execution_count": null,
   "id": "4ae4587f-a138-4a2e-bdaa-b75408c6f9f5",
   "metadata": {},
   "outputs": [],
   "source": [
    "0xe8/255, 0xb0/255, 0x24/255"
   ]
  },
  {
   "cell_type": "code",
   "execution_count": null,
   "id": "f731fb30-5e3f-4af8-a1dc-f7ad14a5ea7a",
   "metadata": {},
   "outputs": [],
   "source": []
  }
 ],
 "metadata": {
  "language_info": {
   "name": "python",
   "pygments_lexer": "ipython3"
  },
  "kernelspec": {
   "display_name": "Python 3",
   "language": "python",
   "name": "python3"
  }
 },
 "nbformat": 4,
 "nbformat_minor": 5
}
