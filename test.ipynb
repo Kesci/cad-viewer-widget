{
 "cells": [
  {
   "cell_type": "code",
   "execution_count": null,
   "id": "e54596f1-61d6-4704-90de-a405f8fe6b00",
   "metadata": {},
   "outputs": [],
   "source": [
    "import numpy as np\n",
    "import json\n",
    "from cad_viewer_widget import CadViewer\n",
    "\n",
    "names = [\"box\", \"box1\", \"boxes\", \"edges\", \"faces\", \"hexapod\", \"hexapod_m\", \"vertices\"]\n",
    "objects = {}\n",
    "states = {}\n",
    "\n",
    "for name in names:\n",
    "    with open(f\"examples/{name}.json\", \"r\") as fd:\n",
    "        objects[name] = json.load(fd)\n",
    "\n",
    "    with open(f\"examples/{name}-states.json\", \"r\") as fd:\n",
    "        states[name] = json.load(fd)"
   ]
  },
  {
   "cell_type": "code",
   "execution_count": null,
   "id": "c990b21e-f998-4fb2-8db2-324c6131a367",
   "metadata": {},
   "outputs": [],
   "source": [
    "name = \"hexapod\"\n",
    "\n",
    "cv = CadViewer(cadWidth=640, height=480, theme=\"light\", tools=True)\n",
    "cv.add_shapes(objects[name], states[name], control=\"trackball\", ticks=10, axes=True, grid=[False, False, False], transparent=False)"
   ]
  },
  {
   "cell_type": "code",
   "execution_count": null,
   "id": "032a0f61-2e70-4ab6-8f94-44495c41af2a",
   "metadata": {},
   "outputs": [],
   "source": [
    "cv.set_states({\n",
    "    '/bottom/bottom_0': (1,0),\n",
    "    '/bottom/top/top_0': [0,1],\n",
    "})"
   ]
  },
  {
   "cell_type": "code",
   "execution_count": null,
   "id": "5502d27e-17d3-4fb5-9fb0-5e603880c0ed",
   "metadata": {},
   "outputs": [],
   "source": [
    "cv.set_states({\n",
    "    '/bottom/bottom_0': (1,1),\n",
    "    '/bottom/top/top_0': [1,1],\n",
    "})"
   ]
  },
  {
   "cell_type": "code",
   "execution_count": null,
   "id": "dfc24b91-eacb-4d21-809d-5fd0c599e981",
   "metadata": {},
   "outputs": [],
   "source": [
    "p0 = cv.widget.position"
   ]
  },
  {
   "cell_type": "code",
   "execution_count": null,
   "id": "4bb01783-a2f8-44f5-91df-92262e9e3d64",
   "metadata": {},
   "outputs": [],
   "source": [
    "cv.widget.position = [960.01,0,0]\n",
    "cv.widget.zoom = 0.5"
   ]
  },
  {
   "cell_type": "code",
   "execution_count": null,
   "id": "f35c406a-405e-41ed-9e44-1932f58cbf67",
   "metadata": {},
   "outputs": [],
   "source": [
    "cv.widget.position = p0\n",
    "cv.widget.zoom = 1"
   ]
  },
  {
   "cell_type": "code",
   "execution_count": null,
   "id": "ab92c5c8-091e-4696-9dd9-d0034dada310",
   "metadata": {},
   "outputs": [],
   "source": [
    "cv.widget.ambient_intensity = 0.8\n",
    "cv.widget.direct_intensity = 0.19"
   ]
  },
  {
   "cell_type": "code",
   "execution_count": null,
   "id": "0576ffc8-4578-4b45-8649-ef44f110cca6",
   "metadata": {},
   "outputs": [],
   "source": [
    "cv.widget.ambient_intensity = 0.5\n",
    "cv.widget.direct_intensity = 0.3"
   ]
  },
  {
   "cell_type": "code",
   "execution_count": null,
   "id": "4273581f-adb9-4eb1-89f1-4cc3248c828a",
   "metadata": {},
   "outputs": [],
   "source": [
    "ec = cv.widget.edge_color\n",
    "ec"
   ]
  },
  {
   "cell_type": "code",
   "execution_count": null,
   "id": "ceda6296-2709-4f7c-ad32-55d3f316177d",
   "metadata": {},
   "outputs": [],
   "source": [
    "cv.widget.edge_color = \"#ff0000\""
   ]
  },
  {
   "cell_type": "code",
   "execution_count": null,
   "id": "4e5f659b-9543-4aae-8f9d-99a8d4abf597",
   "metadata": {},
   "outputs": [],
   "source": [
    "cv.widget.edge_color = ec"
   ]
  },
  {
   "cell_type": "code",
   "execution_count": null,
   "id": "52bb126f-fa05-4bd9-939a-98eecc5d40db",
   "metadata": {},
   "outputs": [],
   "source": [
    "cv.widget.grid = [not g for g in cv.widget.grid]\n",
    "cv.widget.axes = not cv.widget.axes\n",
    "cv.widget.axes0 = not cv.widget.axes0\n",
    "cv.widget.transparent = not cv.widget.transparent\n",
    "cv.widget.black_edges = not cv.widget.black_edges"
   ]
  },
  {
   "cell_type": "code",
   "execution_count": null,
   "id": "cd49e3cc-c8dd-4a09-a54a-032169b1d906",
   "metadata": {},
   "outputs": [],
   "source": [
    "cv.widget.tools = not cv.widget.tools"
   ]
  },
  {
   "cell_type": "code",
   "execution_count": null,
   "id": "de8362c9-9f9d-4cdd-8eee-d61fdba2dd5b",
   "metadata": {},
   "outputs": [],
   "source": [
    "cv.widget.zoom_speed = 1"
   ]
  },
  {
   "cell_type": "code",
   "execution_count": null,
   "id": "645276f3-347f-4987-bd61-00fa41303f4e",
   "metadata": {},
   "outputs": [],
   "source": [
    "cv.widget.pan_speed = 1"
   ]
  },
  {
   "cell_type": "code",
   "execution_count": null,
   "id": "25d397fb-762b-4e12-8711-50ef7776a9c9",
   "metadata": {},
   "outputs": [],
   "source": [
    "cv.widget.rotate_speed = 1"
   ]
  },
  {
   "cell_type": "code",
   "execution_count": null,
   "id": "9af3f01b-c1d1-4b2c-a699-f5324189e47a",
   "metadata": {},
   "outputs": [],
   "source": [
    "cv.widget.ortho = not cv.widget.ortho"
   ]
  },
  {
   "cell_type": "code",
   "execution_count": null,
   "id": "3ff0f5d9-6be3-4cf3-9c58-aa2513062eb5",
   "metadata": {},
   "outputs": [],
   "source": [
    "cv.widget.zoom = 1"
   ]
  },
  {
   "cell_type": "code",
   "execution_count": null,
   "id": "acf94bf4-1830-427a-bd7d-1b1cff945951",
   "metadata": {},
   "outputs": [],
   "source": [
    "cv.widget.lastPick"
   ]
  },
  {
   "cell_type": "code",
   "execution_count": null,
   "id": "4dee9423-21e3-4546-90ab-b68f2c78e49e",
   "metadata": {},
   "outputs": [],
   "source": [
    "name = \"boxes\"\n",
    "\n",
    "cv = CadViewer(cadWidth=640, height=480, theme=\"light\", tools=True)\n",
    "cv.add_shapes(objects[name], states[name], control=\"trackball\", ticks=10, axes=True, grid=[False, False, False], transparent=False)"
   ]
  },
  {
   "cell_type": "code",
   "execution_count": null,
   "id": "860cc882-f6ec-447a-a736-154753fb9255",
   "metadata": {},
   "outputs": [],
   "source": [
    "cv.widget.position = [960,0,0]\n",
    "cv.widget.zoom = 0.5"
   ]
  },
  {
   "cell_type": "code",
   "execution_count": null,
   "id": "699fd89e-151d-4236-8161-a68403df902d",
   "metadata": {},
   "outputs": [],
   "source": [
    "cv.widget.position = [560,560,560]\n",
    "cv.widget.zoom = 0.95"
   ]
  },
  {
   "cell_type": "code",
   "execution_count": null,
   "id": "ac1f2fc1-1571-448b-8eb8-db79831d9bdf",
   "metadata": {},
   "outputs": [],
   "source": [
    "cv.widget.tools = not cv.widget.tools"
   ]
  },
  {
   "cell_type": "code",
   "execution_count": null,
   "id": "4ea9f489-379f-4699-8987-93d478cbc1b6",
   "metadata": {},
   "outputs": [],
   "source": [
    "cv.widget.states = {'/Group/Part_0': (1, 1)}"
   ]
  },
  {
   "cell_type": "code",
   "execution_count": null,
   "id": "2ecfe5d8-28bd-4fb8-b5bc-8ae5a5062845",
   "metadata": {},
   "outputs": [],
   "source": [
    "cv.widget.position, cv.widget.zoom"
   ]
  },
  {
   "cell_type": "code",
   "execution_count": null,
   "id": "afc3dccf-f4a2-4ea3-b34f-7154223b3cd6",
   "metadata": {},
   "outputs": [],
   "source": [
    "import numpy as np\n",
    "new_pos = (rotate_z(np.asarray(cv.widget.position) - np.asarray(cv.widget.target), 45) + np.asarray(cv.widget.target)).tolist()"
   ]
  },
  {
   "cell_type": "code",
   "execution_count": null,
   "id": "7a80003a-f889-479f-b85a-dc6f03228d1a",
   "metadata": {},
   "outputs": [],
   "source": [
    "cv.widget.position = new_pos"
   ]
  },
  {
   "cell_type": "code",
   "execution_count": null,
   "id": "f1f96c21-3edc-42bf-b4da-e055d257cfc6",
   "metadata": {},
   "outputs": [],
   "source": [
    "import math\n",
    "\n",
    "def rotate_x(vector, angle):\n",
    "    angle = rad(angle)\n",
    "    mat = np.array(\n",
    "        [\n",
    "            [1, 0, 0],\n",
    "            [0, math.cos(angle), -math.sin(angle)],\n",
    "            [0, math.sin(angle), math.cos(angle)],\n",
    "        ]\n",
    "    )\n",
    "    return tuple(np.matmul(mat, vector))\n",
    "\n",
    "\n",
    "def rad(deg):\n",
    "    return deg / 180.0 * math.pi\n",
    "\n",
    "\n",
    "def rotate_y(vector, angle):\n",
    "    angle = rad(angle)\n",
    "    mat = np.array(\n",
    "        [\n",
    "            [math.cos(angle), 0, math.sin(angle)],\n",
    "            [0, 1, 0],\n",
    "            [-math.sin(angle), 0, math.cos(angle)],\n",
    "        ]\n",
    "    )\n",
    "    return tuple(np.matmul(mat, vector))\n",
    "\n",
    "\n",
    "def rotate_z(vector, angle):\n",
    "    angle = rad(angle)\n",
    "    mat = np.array(\n",
    "        [\n",
    "            [math.cos(angle), -math.sin(angle), 0],\n",
    "            [math.sin(angle), math.cos(angle), 0],\n",
    "            [0, 0, 1],\n",
    "        ]\n",
    "    )\n",
    "    return tuple(np.matmul(mat, vector))\n",
    "\n",
    "\n",
    "def rotate(vector, angle_x=0, angle_y=0, angle_z=0):\n",
    "    v = tuple(vector)\n",
    "    if angle_z != 0:\n",
    "        v = rotate_z(v, angle_z)\n",
    "    if angle_y != 0:\n",
    "        v = rotate_y(v, angle_y)\n",
    "    if angle_x != 0:\n",
    "        v = rotate_x(v, angle_x)\n",
    "    return v"
   ]
  },
  {
   "cell_type": "markdown",
   "id": "6e8b66d2-6577-48b6-a226-8ee4589c3da8",
   "metadata": {},
   "source": [
    "# Observe position and zoom"
   ]
  },
  {
   "cell_type": "code",
   "execution_count": null,
   "id": "7a2ae109-72be-47b9-a8b6-42ba21b961c2",
   "metadata": {},
   "outputs": [],
   "source": [
    "cv.widget.position, cv.widget."
   ]
  },
  {
   "cell_type": "code",
   "execution_count": null,
   "id": "0f47423e-868d-4865-8888-a727515aefb4",
   "metadata": {},
   "outputs": [],
   "source": [
    "from ipywidgets import Output\n",
    "\n",
    "out = Output()\n",
    "out"
   ]
  },
  {
   "cell_type": "code",
   "execution_count": null,
   "id": "d728f38b-47bb-4273-8268-ac8bb2799ef1",
   "metadata": {},
   "outputs": [],
   "source": [
    "def on_zoom_change(change):\n",
    "    with out:\n",
    "        print(change[\"old\"], \"==>\", change[\"new\"])\n",
    "\n",
    "cv.widget.observe(on_zoom_change, names='zoom')\n",
    "\n",
    "def on_position_change(change):\n",
    "    with out:\n",
    "        print(change[\"old\"], \"==>\", change[\"new\"])\n",
    "\n",
    "cv.widget.observe(on_position_change, names='position')"
   ]
  },
  {
   "cell_type": "markdown",
   "id": "5efdfa26-41d8-4786-bb6a-98979f9cdc90",
   "metadata": {},
   "source": [
    "# Widget comms"
   ]
  },
  {
   "cell_type": "code",
   "execution_count": null,
   "id": "c4abe327-bb73-4321-9e77-f7ce8ed4e1bd",
   "metadata": {},
   "outputs": [],
   "source": [
    "cv.widget.zoom = 0.5"
   ]
  },
  {
   "cell_type": "code",
   "execution_count": null,
   "id": "3a9735cc-3422-4c6d-9f2f-427f6acaa520",
   "metadata": {},
   "outputs": [],
   "source": [
    "cv.widget.zoom = 1"
   ]
  },
  {
   "cell_type": "code",
   "execution_count": null,
   "id": "be4922c4-c06b-498e-83c1-b05bb84907cc",
   "metadata": {},
   "outputs": [],
   "source": [
    "cv.widget.position = (971.5754459258509, -3.125699577493268e-14, -10.09133273345056)"
   ]
  },
  {
   "cell_type": "code",
   "execution_count": null,
   "id": "e3f41e12-c80f-4b36-ad22-78bc4a4e30ed",
   "metadata": {},
   "outputs": [],
   "source": [
    "cv.widget.position = (559.6495141762463, 562.7012872475353, 552.6099545140847)"
   ]
  },
  {
   "cell_type": "code",
   "execution_count": null,
   "id": "c120d5dc-e8de-4167-8bfd-f64fc91786b4",
   "metadata": {},
   "outputs": [],
   "source": [
    "cv.widget.grid = [False, False, True]"
   ]
  },
  {
   "cell_type": "code",
   "execution_count": null,
   "id": "73800a59-1099-4883-871c-46373aa96355",
   "metadata": {},
   "outputs": [],
   "source": [
    "cv.widget.axes = True"
   ]
  },
  {
   "cell_type": "code",
   "execution_count": null,
   "id": "cebcc2c4-1d60-49f9-89ba-5733630a48ac",
   "metadata": {},
   "outputs": [],
   "source": [
    "cv.widget.axes0 = True"
   ]
  },
  {
   "cell_type": "code",
   "execution_count": null,
   "id": "9917161d-f020-4a44-85c3-082d7d4f8be4",
   "metadata": {},
   "outputs": [],
   "source": [
    "cv.widget.transparent = False"
   ]
  },
  {
   "cell_type": "code",
   "execution_count": null,
   "id": "0462ad5f-1cc6-4d77-95e3-001e933c22c5",
   "metadata": {},
   "outputs": [],
   "source": [
    "cv.widget.black_edges = False"
   ]
  },
  {
   "cell_type": "code",
   "execution_count": null,
   "id": "c8e4f762-0388-4e1e-a31c-adca387ba066",
   "metadata": {},
   "outputs": [],
   "source": [
    "cv.widget.tools = True"
   ]
  },
  {
   "cell_type": "code",
   "execution_count": null,
   "id": "555a722c-8585-4289-a96a-f49cf720c871",
   "metadata": {},
   "outputs": [],
   "source": [
    "cv.widget.zoom_speed = 1"
   ]
  },
  {
   "cell_type": "code",
   "execution_count": null,
   "id": "b2fcc0a3-8de0-4d84-bea7-97841ede9ed6",
   "metadata": {},
   "outputs": [],
   "source": [
    "cv.widget.pan_speed = 0.75"
   ]
  },
  {
   "cell_type": "code",
   "execution_count": null,
   "id": "61ec383a-06d7-4c0b-80fc-97632bd1f628",
   "metadata": {},
   "outputs": [],
   "source": [
    "cv.widget.rotate_speed = 1"
   ]
  },
  {
   "cell_type": "code",
   "execution_count": null,
   "id": "a85b635d-e7d7-4a56-9a4a-9a6382030b28",
   "metadata": {},
   "outputs": [],
   "source": [
    "cv.widget.ortho = True"
   ]
  },
  {
   "cell_type": "code",
   "execution_count": null,
   "id": "7f8c0a38-ef97-46f1-b27e-7f887637d1ac",
   "metadata": {},
   "outputs": [],
   "source": [
    "cv.widget.zoom = 1"
   ]
  },
  {
   "cell_type": "code",
   "execution_count": null,
   "id": "6388e1c1-6c83-43f9-b071-ecde1d3bacad",
   "metadata": {},
   "outputs": [],
   "source": [
    "cv.widget.lastPick"
   ]
  },
  {
   "cell_type": "code",
   "execution_count": null,
   "id": "6ed10e83-ecaf-4acf-8e90-e455aed7e9db",
   "metadata": {},
   "outputs": [],
   "source": [
    "cv.widget.zoom = 0.5\n",
    "cv.widget.position = [4,0,0]\n",
    "cv.widget.position, cv.widget.zoom"
   ]
  },
  {
   "cell_type": "code",
   "execution_count": null,
   "id": "c7f97ea9-3d53-49df-93d5-83970cea113e",
   "metadata": {},
   "outputs": [],
   "source": []
  },
  {
   "cell_type": "code",
   "execution_count": null,
   "id": "c08899fe-aa2e-46f8-aa24-4b5d0059fd08",
   "metadata": {},
   "outputs": [],
   "source": []
  },
  {
   "cell_type": "markdown",
   "id": "8f2beb6c-2528-4ee2-bc67-7a4c59e70ab5",
   "metadata": {},
   "source": [
    "# Custom Messsage"
   ]
  },
  {
   "cell_type": "code",
   "execution_count": null,
   "id": "f934c036-1f58-41df-8bb7-594435cc4529",
   "metadata": {},
   "outputs": [],
   "source": [
    "from cad_viewer_widget import show_msg\n",
    "\n",
    "debug = show_msg()"
   ]
  },
  {
   "cell_type": "code",
   "execution_count": null,
   "id": "e5ddfbdc-b986-4516-93d4-66e0701e2db3",
   "metadata": {},
   "outputs": [],
   "source": [
    "def action(zoom_factor):\n",
    "    def inner(result):\n",
    "        value = json.loads(result)[\"result\"]\n",
    "        cv.set(\"viewer.camera.zoom\", zoom_factor * value, update=True, callback=debug)\n",
    "    return inner\n",
    "\n",
    "def zoom(zoom_factor):\n",
    "    cv.get(\"viewer.camera.zoom\", callback=action(zoom_factor))"
   ]
  },
  {
   "cell_type": "code",
   "execution_count": null,
   "id": "7b946332-76e7-4afb-89bb-edb516d21f87",
   "metadata": {},
   "outputs": [],
   "source": [
    "cv.get(\"viewer.camera.zoom\", callback=debug)"
   ]
  },
  {
   "cell_type": "code",
   "execution_count": null,
   "id": "a14a6822-3da1-42d8-af4b-624cf423b3dc",
   "metadata": {},
   "outputs": [],
   "source": [
    "cv.execute(\"viewer.camera.position\", \"set\", (4.3, 0, 0), update=True, callback=debug)"
   ]
  },
  {
   "cell_type": "code",
   "execution_count": null,
   "id": "cc353456-d019-4c9e-9745-b246fd75860d",
   "metadata": {},
   "outputs": [],
   "source": [
    "cv.set(\"viewer.camera.zoom\", 0.2, update=True, callback=debug)"
   ]
  },
  {
   "cell_type": "code",
   "execution_count": null,
   "id": "9a737420-a93e-4f3d-b34c-c465091f3c83",
   "metadata": {},
   "outputs": [],
   "source": [
    "cv.get(\"viewer.camera.position\", callback=action)"
   ]
  },
  {
   "cell_type": "code",
   "execution_count": null,
   "id": "bbcf33bb-1282-4f30-a111-dc1c3fa935ee",
   "metadata": {},
   "outputs": [],
   "source": [
    "cv.get_result()"
   ]
  },
  {
   "cell_type": "code",
   "execution_count": null,
   "id": "1549a7b9-01b7-4984-bbe3-a94334f256f7",
   "metadata": {},
   "outputs": [],
   "source": [
    "cv.get(\"viewer.scene.children[0].children[0].children[1]\", callback=action)"
   ]
  },
  {
   "cell_type": "code",
   "execution_count": null,
   "id": "34ff5cc4-6ab8-45d1-b26f-04ef33b8dd86",
   "metadata": {},
   "outputs": [],
   "source": [
    "cv.execute(\"viewer\", \"setAxes\", (True), update=True, callback=action)"
   ]
  },
  {
   "cell_type": "code",
   "execution_count": null,
   "id": "5fe1692c-ea91-4703-9859-1e9a7afe78d6",
   "metadata": {},
   "outputs": [],
   "source": [
    "cv.get(\"viewer.scene.children[2]\", callback=action)"
   ]
  },
  {
   "cell_type": "code",
   "execution_count": null,
   "id": "c83de9d6-b823-4677-bddf-47276c2afbf5",
   "metadata": {},
   "outputs": [],
   "source": [
    "cv.zoom"
   ]
  },
  {
   "cell_type": "code",
   "execution_count": null,
   "id": "6dacca4a-539b-485e-ab2c-55049c6218d4",
   "metadata": {},
   "outputs": [],
   "source": [
    "cv.widget.zoom = 0.5"
   ]
  },
  {
   "cell_type": "code",
   "execution_count": null,
   "id": "f3654e82-4367-4722-a7fa-d5812c09743d",
   "metadata": {},
   "outputs": [],
   "source": [
    "import json\n",
    "print(json.dumps(cv.widget.states))"
   ]
  },
  {
   "cell_type": "code",
   "execution_count": null,
   "id": "7d88f91a-e508-499c-9664-8d6fc78ab8d1",
   "metadata": {},
   "outputs": [],
   "source": [
    "States = {\n",
    "  \"unselected\": 0,\n",
    "  \"selected\": 1,\n",
    "  \"mixed\": 2,\n",
    "  \"empty\": 3\n",
    "};"
   ]
  },
  {
   "cell_type": "code",
   "execution_count": null,
   "id": "b2d41e11-e043-4875-aad0-e1772ec9e3d0",
   "metadata": {},
   "outputs": [],
   "source": [
    "def set_state(shape, mesh):\n",
    "    if shape > 15 or mesh > 15 or shape < 0 or mesh < 0:\n",
    "        raise ValueError(\"Values need to be between 0 and 15\")\n",
    "    return (shape << 4) + mesh"
   ]
  },
  {
   "cell_type": "code",
   "execution_count": null,
   "id": "05686585-cc06-431f-9d24-31ee7b2afc1c",
   "metadata": {},
   "outputs": [],
   "source": [
    "def get_state(state):\n",
    "    if state > 255 or state < 0:\n",
    "        raise ValueError(\"Value needs to be between 0 and 255\")\n",
    "    return (state >> 4, state & 15)"
   ]
  },
  {
   "cell_type": "code",
   "execution_count": null,
   "id": "fd14bbc1-b4ff-421c-b43e-26ff049793a1",
   "metadata": {},
   "outputs": [],
   "source": [
    "state = set_state(0,15)\n",
    "state"
   ]
  },
  {
   "cell_type": "code",
   "execution_count": null,
   "id": "a41425ee-443c-480d-a5b9-605694479888",
   "metadata": {},
   "outputs": [],
   "source": [
    "get_state(state)"
   ]
  },
  {
   "cell_type": "code",
   "execution_count": null,
   "id": "00a097f3-c57d-4980-8550-04a1d63aac40",
   "metadata": {},
   "outputs": [],
   "source": []
  }
 ],
 "metadata": {
  "language_info": {
   "name": "python",
   "pygments_lexer": "ipython3"
  },
  "kernelspec": {
   "display_name": "Python 3",
   "language": "python",
   "name": "python3"
  }
 },
 "nbformat": 4,
 "nbformat_minor": 5
}
