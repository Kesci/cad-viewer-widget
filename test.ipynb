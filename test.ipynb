{
 "cells": [
  {
   "cell_type": "code",
   "execution_count": null,
   "id": "e54596f1-61d6-4704-90de-a405f8fe6b00",
   "metadata": {},
   "outputs": [],
   "source": [
    "import numpy as np\n",
    "import json\n",
    "from cad_viewer_widget import CadViewer\n",
    "from sidecar import Sidecar\n",
    "\n",
    "names = [\"box\", \"box1\", \"boxes\", \"edges\", \"faces\", \"hexapod\", \"hexapod_m\", \"vertices\"]\n",
    "objects = {}\n",
    "states = {}\n",
    "\n",
    "for name in names:\n",
    "    with open(f\"examples/{name}.json\", \"r\") as fd:\n",
    "        objects[name] = json.load(fd)\n",
    "\n",
    "    with open(f\"examples/{name}-states.json\", \"r\") as fd:\n",
    "        states[name] = json.load(fd)"
   ]
  },
  {
   "cell_type": "code",
   "execution_count": null,
   "id": "78bd48df-b6c9-4939-bd80-2ea47be42ef3",
   "metadata": {},
   "outputs": [],
   "source": [
    "sc = Sidecar(title=\"Tests\")\n",
    "\n",
    "with sc:\n",
    "    cv = CadViewer(\n",
    "        cad_width=800, \n",
    "        height=600, \n",
    "        tree_width=250, \n",
    "        theme=\"light\", \n",
    "        tools=True\n",
    "    )"
   ]
  },
  {
   "cell_type": "code",
   "execution_count": null,
   "id": "2047d07b-2653-479f-b9cc-29b3947d9496",
   "metadata": {},
   "outputs": [],
   "source": [
    "name = \"hexapod\"\n",
    "\n",
    "cv.add_shapes(\n",
    "    objects[name],\n",
    "    states[name],\n",
    "    ortho=True,\n",
    "    control=\"orbit\",\n",
    "    ticks=10,\n",
    "    axes=True,\n",
    "    axes0=False,\n",
    "    grid=[True, False, False], \n",
    "    transparent=True,\n",
    "    black_edges=False,\n",
    "    edge_color=\"#707070\",\n",
    "    ambient_intensity=0.5,\n",
    "    direct_intensity=0.3,\n",
    "    timeit=False,\n",
    ")"
   ]
  },
  {
   "cell_type": "markdown",
   "id": "ceca8f0b-8b51-4748-b36a-72f358a2284a",
   "metadata": {},
   "source": [
    "# Widget comms"
   ]
  },
  {
   "cell_type": "code",
   "execution_count": null,
   "id": "90bc1d1d-7e2a-459a-a219-55a0e52a6f8b",
   "metadata": {},
   "outputs": [],
   "source": [
    "cv.widget.states"
   ]
  },
  {
   "cell_type": "code",
   "execution_count": null,
   "id": "032a0f61-2e70-4ab6-8f94-44495c41af2a",
   "metadata": {},
   "outputs": [],
   "source": [
    "cv.set_states({\n",
    "    '/bottom/bottom_0': (1,0),\n",
    "    '/bottom/top/top_0': [0,1],\n",
    "})"
   ]
  },
  {
   "cell_type": "code",
   "execution_count": null,
   "id": "5502d27e-17d3-4fb5-9fb0-5e603880c0ed",
   "metadata": {},
   "outputs": [],
   "source": [
    "cv.set_states({\n",
    "    '/bottom/bottom_0': (1,1),\n",
    "    '/bottom/top/top_0': [1,1],\n",
    "})"
   ]
  },
  {
   "cell_type": "code",
   "execution_count": null,
   "id": "dfc24b91-eacb-4d21-809d-5fd0c599e981",
   "metadata": {},
   "outputs": [],
   "source": [
    "p0 = cv.widget.position"
   ]
  },
  {
   "cell_type": "code",
   "execution_count": null,
   "id": "4bb01783-a2f8-44f5-91df-92262e9e3d64",
   "metadata": {},
   "outputs": [],
   "source": [
    "cv.widget.position = [960.01,0,0]\n",
    "cv.widget.zoom = 0.5"
   ]
  },
  {
   "cell_type": "code",
   "execution_count": null,
   "id": "f35c406a-405e-41ed-9e44-1932f58cbf67",
   "metadata": {},
   "outputs": [],
   "source": [
    "cv.widget.position = p0\n",
    "cv.widget.zoom = 1"
   ]
  },
  {
   "cell_type": "code",
   "execution_count": null,
   "id": "ab92c5c8-091e-4696-9dd9-d0034dada310",
   "metadata": {},
   "outputs": [],
   "source": [
    "cv.widget.ambient_intensity = 0.9\n",
    "cv.widget.direct_intensity = 0.3"
   ]
  },
  {
   "cell_type": "code",
   "execution_count": null,
   "id": "0576ffc8-4578-4b45-8649-ef44f110cca6",
   "metadata": {},
   "outputs": [],
   "source": [
    "cv.widget.ambient_intensity = 0.5\n",
    "cv.widget.direct_intensity = 0.3"
   ]
  },
  {
   "cell_type": "code",
   "execution_count": null,
   "id": "4273581f-adb9-4eb1-89f1-4cc3248c828a",
   "metadata": {},
   "outputs": [],
   "source": [
    "ec = cv.widget.edge_color"
   ]
  },
  {
   "cell_type": "code",
   "execution_count": null,
   "id": "ceda6296-2709-4f7c-ad32-55d3f316177d",
   "metadata": {},
   "outputs": [],
   "source": [
    "cv.widget.edge_color = \"#ff0000\""
   ]
  },
  {
   "cell_type": "code",
   "execution_count": null,
   "id": "4e5f659b-9543-4aae-8f9d-99a8d4abf597",
   "metadata": {},
   "outputs": [],
   "source": [
    "cv.widget.edge_color = ec"
   ]
  },
  {
   "cell_type": "code",
   "execution_count": null,
   "id": "52bb126f-fa05-4bd9-939a-98eecc5d40db",
   "metadata": {},
   "outputs": [],
   "source": [
    "# cv.widget.grid = [not g for g in cv.widget.grid]\n",
    "cv.widget.axes = not cv.widget.axes\n",
    "cv.widget.axes0 = not cv.widget.axes0\n",
    "cv.widget.transparent = not cv.widget.transparent\n",
    "cv.widget.black_edges = not cv.widget.black_edges"
   ]
  },
  {
   "cell_type": "code",
   "execution_count": null,
   "id": "cd49e3cc-c8dd-4a09-a54a-032169b1d906",
   "metadata": {},
   "outputs": [],
   "source": [
    "cv.widget.tools = not cv.widget.tools"
   ]
  },
  {
   "cell_type": "code",
   "execution_count": null,
   "id": "ed5ac81a-a329-4f5a-ab0a-f91ff6b6d9c9",
   "metadata": {},
   "outputs": [],
   "source": [
    "cv.widget.ortho = not cv.widget.ortho"
   ]
  },
  {
   "cell_type": "code",
   "execution_count": null,
   "id": "1135f786-8f67-40b1-9d37-07c7faaeda6f",
   "metadata": {},
   "outputs": [],
   "source": [
    "cv.widget.zoom_speed = 5\n",
    "cv.widget.pan_speed = 5\n",
    "cv.widget.rotate_speed = 5"
   ]
  },
  {
   "cell_type": "code",
   "execution_count": null,
   "id": "982397ff-1c84-4dba-8e24-c17351da4e91",
   "metadata": {},
   "outputs": [],
   "source": [
    "cv.widget.zoom_speed = 1\n",
    "cv.widget.pan_speed = 1\n",
    "cv.widget.rotate_speed = 1"
   ]
  },
  {
   "cell_type": "code",
   "execution_count": null,
   "id": "acf94bf4-1830-427a-bd7d-1b1cff945951",
   "metadata": {},
   "outputs": [],
   "source": [
    "cv.widget.lastPick"
   ]
  },
  {
   "cell_type": "code",
   "execution_count": null,
   "id": "f7277245-5b15-41f7-8bd2-785aa359d023",
   "metadata": {},
   "outputs": [],
   "source": []
  },
  {
   "cell_type": "code",
   "execution_count": null,
   "id": "20da23c4-1f75-458f-9be5-b2c897598929",
   "metadata": {},
   "outputs": [],
   "source": []
  },
  {
   "cell_type": "code",
   "execution_count": null,
   "id": "d6089e3a-79cb-4fbd-9b4b-452c39e73701",
   "metadata": {},
   "outputs": [],
   "source": []
  },
  {
   "cell_type": "code",
   "execution_count": null,
   "id": "4f0c7796-edad-4145-9843-1140c43df1b9",
   "metadata": {},
   "outputs": [],
   "source": []
  },
  {
   "cell_type": "code",
   "execution_count": null,
   "id": "0872c3be-8081-46ad-9e6c-46d65a90d4d6",
   "metadata": {},
   "outputs": [],
   "source": []
  },
  {
   "cell_type": "code",
   "execution_count": null,
   "id": "cdc6c5b6-50fa-445e-914e-abd5060e6412",
   "metadata": {},
   "outputs": [],
   "source": []
  },
  {
   "cell_type": "markdown",
   "id": "8f2beb6c-2528-4ee2-bc67-7a4c59e70ab5",
   "metadata": {},
   "source": [
    "# Custom Messsage"
   ]
  },
  {
   "cell_type": "code",
   "execution_count": null,
   "id": "f934c036-1f58-41df-8bb7-594435cc4529",
   "metadata": {},
   "outputs": [],
   "source": [
    "from cad_viewer_widget import show_msg\n",
    "\n",
    "debug = show_msg()"
   ]
  },
  {
   "cell_type": "code",
   "execution_count": null,
   "id": "e5ddfbdc-b986-4516-93d4-66e0701e2db3",
   "metadata": {},
   "outputs": [],
   "source": [
    "from ipywidgets import Output\n",
    "\n",
    "def action(result):\n",
    "    value = json.loads(result)[\"result\"]\n",
    "    with out:\n",
    "        print(value)\n",
    "\n",
    "out = Output()\n",
    "out"
   ]
  },
  {
   "cell_type": "code",
   "execution_count": null,
   "id": "9fab7ae8-65af-4cfc-8906-6795aa487a58",
   "metadata": {},
   "outputs": [],
   "source": [
    "cv.execute(\"addShapes\", None, callback=action)"
   ]
  },
  {
   "cell_type": "code",
   "execution_count": null,
   "id": "7b946332-76e7-4afb-89bb-edb516d21f87",
   "metadata": {},
   "outputs": [],
   "source": [
    "cv.get(\"viewer.camera.zoom\", callback=debug)"
   ]
  },
  {
   "cell_type": "code",
   "execution_count": null,
   "id": "a14a6822-3da1-42d8-af4b-624cf423b3dc",
   "metadata": {},
   "outputs": [],
   "source": [
    "cv.execute(\"viewer.camera.position\", \"set\", (4.3, 0, 0), update=True, callback=debug)"
   ]
  },
  {
   "cell_type": "code",
   "execution_count": null,
   "id": "cc353456-d019-4c9e-9745-b246fd75860d",
   "metadata": {},
   "outputs": [],
   "source": [
    "cv.set(\"viewer.camera.zoom\", 0.2, update=True, callback=debug)"
   ]
  },
  {
   "cell_type": "code",
   "execution_count": null,
   "id": "9a737420-a93e-4f3d-b34c-c465091f3c83",
   "metadata": {},
   "outputs": [],
   "source": [
    "cv.get(\"viewer.camera.position\", callback=action)"
   ]
  },
  {
   "cell_type": "code",
   "execution_count": null,
   "id": "bbcf33bb-1282-4f30-a111-dc1c3fa935ee",
   "metadata": {},
   "outputs": [],
   "source": [
    "cv.get_result()"
   ]
  },
  {
   "cell_type": "code",
   "execution_count": null,
   "id": "1549a7b9-01b7-4984-bbe3-a94334f256f7",
   "metadata": {},
   "outputs": [],
   "source": [
    "cv.get(\"viewer.scene.children[0].children[0].children[1]\", callback=action)"
   ]
  },
  {
   "cell_type": "code",
   "execution_count": null,
   "id": "34ff5cc4-6ab8-45d1-b26f-04ef33b8dd86",
   "metadata": {},
   "outputs": [],
   "source": [
    "cv.execute(\"viewer\", \"setAxes\", (True), update=True, callback=action)"
   ]
  },
  {
   "cell_type": "code",
   "execution_count": null,
   "id": "5fe1692c-ea91-4703-9859-1e9a7afe78d6",
   "metadata": {},
   "outputs": [],
   "source": [
    "cv.get(\"viewer.scene.children[2]\", callback=action)"
   ]
  },
  {
   "cell_type": "code",
   "execution_count": null,
   "id": "c83de9d6-b823-4677-bddf-47276c2afbf5",
   "metadata": {},
   "outputs": [],
   "source": [
    "cv.zoom"
   ]
  },
  {
   "cell_type": "code",
   "execution_count": null,
   "id": "6dacca4a-539b-485e-ab2c-55049c6218d4",
   "metadata": {},
   "outputs": [],
   "source": [
    "cv.widget.zoom = 0.5"
   ]
  },
  {
   "cell_type": "code",
   "execution_count": null,
   "id": "f3654e82-4367-4722-a7fa-d5812c09743d",
   "metadata": {},
   "outputs": [],
   "source": [
    "import json\n",
    "print(json.dumps(cv.widget.states))"
   ]
  },
  {
   "cell_type": "code",
   "execution_count": null,
   "id": "7d88f91a-e508-499c-9664-8d6fc78ab8d1",
   "metadata": {},
   "outputs": [],
   "source": [
    "States = {\n",
    "  \"unselected\": 0,\n",
    "  \"selected\": 1,\n",
    "  \"mixed\": 2,\n",
    "  \"empty\": 3\n",
    "};"
   ]
  },
  {
   "cell_type": "code",
   "execution_count": null,
   "id": "b2d41e11-e043-4875-aad0-e1772ec9e3d0",
   "metadata": {},
   "outputs": [],
   "source": [
    "def set_state(shape, mesh):\n",
    "    if shape > 15 or mesh > 15 or shape < 0 or mesh < 0:\n",
    "        raise ValueError(\"Values need to be between 0 and 15\")\n",
    "    return (shape << 4) + mesh"
   ]
  },
  {
   "cell_type": "code",
   "execution_count": null,
   "id": "05686585-cc06-431f-9d24-31ee7b2afc1c",
   "metadata": {},
   "outputs": [],
   "source": [
    "def get_state(state):\n",
    "    if state > 255 or state < 0:\n",
    "        raise ValueError(\"Value needs to be between 0 and 255\")\n",
    "    return (state >> 4, state & 15)"
   ]
  },
  {
   "cell_type": "code",
   "execution_count": null,
   "id": "fd14bbc1-b4ff-421c-b43e-26ff049793a1",
   "metadata": {},
   "outputs": [],
   "source": [
    "state = set_state(0,15)\n",
    "state"
   ]
  },
  {
   "cell_type": "code",
   "execution_count": null,
   "id": "a41425ee-443c-480d-a5b9-605694479888",
   "metadata": {},
   "outputs": [],
   "source": [
    "get_state(state)"
   ]
  },
  {
   "cell_type": "markdown",
   "id": "ddb9b01a-5938-4e3b-b945-240f5d09b8b3",
   "metadata": {},
   "source": [
    "# BACKUP"
   ]
  },
  {
   "cell_type": "code",
   "execution_count": null,
   "id": "00f1d51b-ede3-45ea-9dec-4a01d36886fc",
   "metadata": {},
   "outputs": [],
   "source": [
    "import math\n",
    "\n",
    "def rotate_x(vector, angle):\n",
    "    angle = rad(angle)\n",
    "    mat = np.array(\n",
    "        [\n",
    "            [1, 0, 0],\n",
    "            [0, math.cos(angle), -math.sin(angle)],\n",
    "            [0, math.sin(angle), math.cos(angle)],\n",
    "        ]\n",
    "    )\n",
    "    return tuple(np.matmul(mat, vector))\n",
    "\n",
    "\n",
    "def rad(deg):\n",
    "    return deg / 180.0 * math.pi\n",
    "\n",
    "\n",
    "def rotate_y(vector, angle):\n",
    "    angle = rad(angle)\n",
    "    mat = np.array(\n",
    "        [\n",
    "            [math.cos(angle), 0, math.sin(angle)],\n",
    "            [0, 1, 0],\n",
    "            [-math.sin(angle), 0, math.cos(angle)],\n",
    "        ]\n",
    "    )\n",
    "    return tuple(np.matmul(mat, vector))\n",
    "\n",
    "\n",
    "def rotate_z(vector, angle):\n",
    "    angle = rad(angle)\n",
    "    mat = np.array(\n",
    "        [\n",
    "            [math.cos(angle), -math.sin(angle), 0],\n",
    "            [math.sin(angle), math.cos(angle), 0],\n",
    "            [0, 0, 1],\n",
    "        ]\n",
    "    )\n",
    "    return tuple(np.matmul(mat, vector))\n",
    "\n",
    "\n",
    "def rotate(vector, angle_x=0, angle_y=0, angle_z=0):\n",
    "    v = tuple(vector)\n",
    "    if angle_z != 0:\n",
    "        v = rotate_z(v, angle_z)\n",
    "    if angle_y != 0:\n",
    "        v = rotate_y(v, angle_y)\n",
    "    if angle_x != 0:\n",
    "        v = rotate_x(v, angle_x)\n",
    "    return v"
   ]
  }
 ],
 "metadata": {
  "language_info": {
   "name": "python",
   "pygments_lexer": "ipython3"
  },
  "kernelspec": {
   "display_name": "Python 3",
   "language": "python",
   "name": "python3"
  }
 },
 "nbformat": 4,
 "nbformat_minor": 5
}
