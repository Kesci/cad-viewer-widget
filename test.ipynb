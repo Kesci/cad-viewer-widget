{
 "cells": [
  {
   "cell_type": "markdown",
   "id": "300fc4db-7af9-4dca-beb0-39fe0b30d418",
   "metadata": {},
   "source": [
    "# The Viewer"
   ]
  },
  {
   "cell_type": "code",
   "execution_count": null,
   "id": "e54596f1-61d6-4704-90de-a405f8fe6b00",
   "metadata": {},
   "outputs": [],
   "source": [
    "import numpy as np\n",
    "import json\n",
    "import time\n",
    "import ipywidgets as widgets\n",
    "from cad_viewer_widget import CadViewer, AnimationTrack\n",
    "from sidecar import Sidecar\n",
    "\n",
    "names = [\"hexapod\", \"hexapod_m\", \"box\", \"box1\", \"boxes\", \"edges\", \"faces\", \"vertices\", \"pylones\", \"box-edges\", \"box-faces\", \"box-vertices\"]\n",
    "objects = {}\n",
    "states = {}\n",
    "\n",
    "for name in names:\n",
    "    with open(f\"examples/{name}.json\", \"r\") as fd:\n",
    "        objects[name] = json.load(fd)\n",
    "\n",
    "    with open(f\"examples/{name}-states.json\", \"r\") as fd:\n",
    "        states[name] = json.load(fd)"
   ]
  },
  {
   "cell_type": "markdown",
   "id": "426a0d16-53eb-4020-adad-55efd39fb1f5",
   "metadata": {},
   "source": [
    "## Open viewer in cell"
   ]
  },
  {
   "cell_type": "code",
   "execution_count": null,
   "id": "08cbeb2c-e0bb-41ee-9399-8b5fdf6eb84c",
   "metadata": {},
   "outputs": [],
   "source": [
    "cv1 = CadViewer(\n",
    "    cad_width=640, \n",
    "    height=480, \n",
    "    tools=True,\n",
    "    pinning=True,\n",
    ")\n",
    "name = \"hexapod\"\n",
    "cv1.add_shapes(\n",
    "        objects[name],\n",
    "        states[name],\n",
    "        ortho=False,\n",
    "        control=\"orbit\",\n",
    "        grid=(False, False, False),\n",
    ")"
   ]
  },
  {
   "cell_type": "code",
   "execution_count": null,
   "id": "a081c018-0357-43e0-8c83-337179bafeb3",
   "metadata": {},
   "outputs": [],
   "source": [
    "cv2 = CadViewer(\n",
    "    cad_width=640, \n",
    "    height=480, \n",
    "    tools=True,\n",
    "    pinning=True\n",
    ")\n",
    "name = \"faces\"\n",
    "cv2.add_shapes(\n",
    "    objects[name],\n",
    "    states[name],\n",
    "    ortho=False,\n",
    "    control=\"orbit\",\n",
    "    grid=(False, False, False),\n",
    ")"
   ]
  },
  {
   "cell_type": "code",
   "execution_count": null,
   "id": "f32e38d8-cecd-456c-a722-4756c7142b2d",
   "metadata": {},
   "outputs": [],
   "source": [
    "from ipywidgets.embed import embed_minimal_html\n",
    "# !!! sc.close()\n",
    "embed_minimal_html('export.html', views=[cv2.widget], title='Widgets export')"
   ]
  },
  {
   "cell_type": "code",
   "execution_count": null,
   "id": "78bd48df-b6c9-4939-bd80-2ea47be42ef3",
   "metadata": {},
   "outputs": [],
   "source": [
    "sc = Sidecar(title=\"Tests\")\n",
    "\n",
    "with sc:\n",
    "    cv = CadViewer(\n",
    "        cad_width=640, \n",
    "        height=480, \n",
    "        theme=\"light\"\n",
    "    )"
   ]
  },
  {
   "cell_type": "markdown",
   "id": "fe9dd08c-4a59-43d9-923a-8b93707fe67d",
   "metadata": {},
   "source": [
    "## Observe Javascript events"
   ]
  },
  {
   "cell_type": "code",
   "execution_count": null,
   "id": "819cff18-3c2c-467d-8d44-354b3606225e",
   "metadata": {},
   "outputs": [],
   "source": [
    "cv.js_debug = True"
   ]
  },
  {
   "cell_type": "markdown",
   "id": "6847f42d-0bba-4b60-aa70-d1f77df57d5c",
   "metadata": {},
   "source": [
    "## Adding shapes"
   ]
  },
  {
   "cell_type": "code",
   "execution_count": null,
   "id": "2047d07b-2653-479f-b9cc-29b3947d9496",
   "metadata": {},
   "outputs": [],
   "source": [
    "def show(name):\n",
    "    cv.add_shapes(\n",
    "        objects[name],\n",
    "        states[name],\n",
    "        ortho=True,\n",
    "        control=\"trackball\",\n",
    "        ticks=20,\n",
    "        axes=True,\n",
    "        axes0=False,\n",
    "        grid=[True, False, False], \n",
    "        transparent=False,\n",
    "        black_edges=False,\n",
    "        edge_color=\"#707070\",\n",
    "        ambient_intensity=0.5,\n",
    "        direct_intensity=0.3,\n",
    "        reset_camera=True,\n",
    "    #    position=[-580.0, 200.0, 750.0],\n",
    "    #    quaternion=[-0.33, 0.026, 0.91, 0.24],\n",
    "    #    zoom=0.5,\n",
    "    #    timeit=True,\n",
    "    #    animation_loop=False\n",
    "    )\n",
    "\n",
    "menu = widgets.Dropdown(\n",
    "    options=names,\n",
    "    value=names[0],\n",
    "    description='Number:',\n",
    "    disabled=False,\n",
    ")\n",
    "\n",
    "def on_change(change):\n",
    "    if change['type'] == 'change' and change['name'] == 'value':\n",
    "        show(change['new'])\n",
    "\n",
    "menu.observe(on_change)\n",
    "\n",
    "show(names[0])\n",
    "menu"
   ]
  },
  {
   "cell_type": "markdown",
   "id": "da05a3f4-5077-46aa-8605-60f901683582",
   "metadata": {},
   "source": [
    "# Camera position control"
   ]
  },
  {
   "cell_type": "code",
   "execution_count": null,
   "id": "dfc24b91-eacb-4d21-809d-5fd0c599e981",
   "metadata": {},
   "outputs": [],
   "source": [
    "p0 = cv.position\n",
    "if cv.control == \"trackball\":\n",
    "    q0 = cv.quaternion\n",
    "else:\n",
    "    q0 = None\n",
    "p0, q0"
   ]
  },
  {
   "cell_type": "code",
   "execution_count": null,
   "id": "73daae57-3e17-4be3-be0f-a18f03c2135d",
   "metadata": {},
   "outputs": [],
   "source": [
    "cv.position = [-580.0, 200.0, 750.0]\n",
    "\n",
    "if cv.control == \"trackball\":\n",
    "    cv.quaternion = [-0.33, 0.026, 0.91, 0.24]\n",
    "\n",
    "cv.zoom = 0.5"
   ]
  },
  {
   "cell_type": "code",
   "execution_count": null,
   "id": "864f4d05-7e5a-4242-9ee5-ed9b3f9a41ad",
   "metadata": {},
   "outputs": [],
   "source": [
    "cv.position = p0\n",
    "\n",
    "if cv.control == \"trackball\":\n",
    "    cv.quaternion = q0\n",
    "    \n",
    "cv.zoom = 1"
   ]
  },
  {
   "cell_type": "markdown",
   "id": "ceca8f0b-8b51-4748-b36a-72f358a2284a",
   "metadata": {},
   "source": [
    "# Widget interaction"
   ]
  },
  {
   "cell_type": "code",
   "execution_count": null,
   "id": "032a0f61-2e70-4ab6-8f94-44495c41af2a",
   "metadata": {},
   "outputs": [],
   "source": [
    "cv.update_states({\n",
    "    '/bottom/bottom_0': (1,0),\n",
    "    '/bottom/top/top_0': [0,1],\n",
    "})"
   ]
  },
  {
   "cell_type": "code",
   "execution_count": null,
   "id": "5502d27e-17d3-4fb5-9fb0-5e603880c0ed",
   "metadata": {},
   "outputs": [],
   "source": [
    "cv.update_states({\n",
    "    '/bottom/bottom_0': (1,1),\n",
    "    '/bottom/top/top_0': [1,1],\n",
    "})"
   ]
  },
  {
   "cell_type": "code",
   "execution_count": null,
   "id": "ab92c5c8-091e-4696-9dd9-d0034dada310",
   "metadata": {},
   "outputs": [],
   "source": [
    "cv.ambient_intensity = 0.9\n",
    "cv.direct_intensity = 0.5"
   ]
  },
  {
   "cell_type": "code",
   "execution_count": null,
   "id": "0576ffc8-4578-4b45-8649-ef44f110cca6",
   "metadata": {},
   "outputs": [],
   "source": [
    "cv.ambient_intensity = 0.5\n",
    "cv.direct_intensity = 0.3"
   ]
  },
  {
   "cell_type": "code",
   "execution_count": null,
   "id": "4273581f-adb9-4eb1-89f1-4cc3248c828a",
   "metadata": {},
   "outputs": [],
   "source": [
    "ec = cv.edge_color"
   ]
  },
  {
   "cell_type": "code",
   "execution_count": null,
   "id": "ceda6296-2709-4f7c-ad32-55d3f316177d",
   "metadata": {},
   "outputs": [],
   "source": [
    "cv.edge_color = \"#ff0000\""
   ]
  },
  {
   "cell_type": "code",
   "execution_count": null,
   "id": "4e5f659b-9543-4aae-8f9d-99a8d4abf597",
   "metadata": {},
   "outputs": [],
   "source": [
    "cv.edge_color = ec"
   ]
  },
  {
   "cell_type": "code",
   "execution_count": null,
   "id": "83d2fa2a-3dc9-4cc3-b7ac-628e05c18c2f",
   "metadata": {},
   "outputs": [],
   "source": [
    "cv.grid = [not g for g in cv.widget.grid]"
   ]
  },
  {
   "cell_type": "code",
   "execution_count": null,
   "id": "26e92be6-06d4-442f-8007-f2c993e97b2e",
   "metadata": {},
   "outputs": [],
   "source": [
    "cv.axes = not cv.axes\n",
    "cv.axes0 = not cv.axes0\n",
    "cv.transparent = not cv.transparent\n",
    "cv.black_edges = not cv.black_edges"
   ]
  },
  {
   "cell_type": "code",
   "execution_count": null,
   "id": "cd49e3cc-c8dd-4a09-a54a-032169b1d906",
   "metadata": {},
   "outputs": [],
   "source": [
    "cv.tools = not cv.tools"
   ]
  },
  {
   "cell_type": "code",
   "execution_count": null,
   "id": "ed5ac81a-a329-4f5a-ab0a-f91ff6b6d9c9",
   "metadata": {},
   "outputs": [],
   "source": [
    "cv.ortho = not cv.ortho"
   ]
  },
  {
   "cell_type": "code",
   "execution_count": null,
   "id": "1135f786-8f67-40b1-9d37-07c7faaeda6f",
   "metadata": {},
   "outputs": [],
   "source": [
    "cv.zoom_speed = 5\n",
    "cv.pan_speed = 5\n",
    "cv.rotate_speed = 5"
   ]
  },
  {
   "cell_type": "code",
   "execution_count": null,
   "id": "982397ff-1c84-4dba-8e24-c17351da4e91",
   "metadata": {},
   "outputs": [],
   "source": [
    "cv.zoom_speed =1\n",
    "cv.pan_speed =1\n",
    "cv.rotate_speed =1"
   ]
  },
  {
   "cell_type": "code",
   "execution_count": null,
   "id": "acf94bf4-1830-427a-bd7d-1b1cff945951",
   "metadata": {},
   "outputs": [],
   "source": [
    "cv.last_pick"
   ]
  },
  {
   "cell_type": "markdown",
   "id": "874c1bb1-38ad-42ae-aef4-c1f62888d7c9",
   "metadata": {},
   "source": [
    "# Clipping handling"
   ]
  },
  {
   "cell_type": "code",
   "execution_count": null,
   "id": "2ca1f312-491c-44c8-a21c-45913e4784d7",
   "metadata": {},
   "outputs": [],
   "source": [
    "cv.select_clipping()"
   ]
  },
  {
   "cell_type": "code",
   "execution_count": null,
   "id": "db5ad755-39c3-42f8-a130-5d9528f7613f",
   "metadata": {},
   "outputs": [],
   "source": [
    "cv.clip_intersection = not cv.clip_intersection"
   ]
  },
  {
   "cell_type": "code",
   "execution_count": null,
   "id": "49a5e5ea-b0b9-4876-9620-b574cfe5d7a6",
   "metadata": {},
   "outputs": [],
   "source": [
    "cv.clip_planes = not cv.clip_planes"
   ]
  },
  {
   "cell_type": "code",
   "execution_count": null,
   "id": "e64fe54a-756d-4a67-931f-4bcc7c3f77ee",
   "metadata": {},
   "outputs": [],
   "source": [
    "cv.clip_value_0 = 10\n",
    "cv.clip_value_1 = -50\n",
    "cv.clip_value_2 = 40"
   ]
  },
  {
   "cell_type": "code",
   "execution_count": null,
   "id": "96ed0bf9-dcac-4b4a-bb74-0dac28fb9797",
   "metadata": {},
   "outputs": [],
   "source": [
    "cv.clip_normal_0"
   ]
  },
  {
   "cell_type": "code",
   "execution_count": null,
   "id": "02503b30-d19b-4890-ae71-b3782b15abb0",
   "metadata": {},
   "outputs": [],
   "source": [
    "cv.clip_value_2"
   ]
  },
  {
   "cell_type": "code",
   "execution_count": null,
   "id": "f96ca9e5-8313-4f15-a6b2-c61adf7330c8",
   "metadata": {},
   "outputs": [],
   "source": [
    "cv.clip_normal_0 = (-0.35, -0.35, -0.35)"
   ]
  },
  {
   "cell_type": "code",
   "execution_count": null,
   "id": "34a375de-e4a2-4f45-aa2d-bae55e98a456",
   "metadata": {},
   "outputs": [],
   "source": [
    "cv.clip_normal_0 = (-1, 0, 0)"
   ]
  },
  {
   "cell_type": "code",
   "execution_count": null,
   "id": "18ec7a77-835b-4a37-9b1d-0aed8f291770",
   "metadata": {},
   "outputs": [],
   "source": [
    "cv.select_tree()"
   ]
  },
  {
   "cell_type": "markdown",
   "id": "ddb9b01a-5938-4e3b-b945-240f5d09b8b3",
   "metadata": {},
   "source": [
    "# Rotations"
   ]
  },
  {
   "cell_type": "code",
   "execution_count": null,
   "id": "a3cda18f-d084-4e52-811a-345939cea802",
   "metadata": {},
   "outputs": [],
   "source": [
    "for i in range(10):\n",
    "    cv.rotate_x(1)\n",
    "    cv.rotate_y(3)\n",
    "    cv.rotate_z(5)\n",
    "    time.sleep(0.1)"
   ]
  },
  {
   "cell_type": "code",
   "execution_count": null,
   "id": "7f8f2a28-f30c-4e00-a550-bef49d9b2666",
   "metadata": {},
   "outputs": [],
   "source": [
    "for i in range(10):\n",
    "    cv.rotate_z(-5)\n",
    "    cv.rotate_y(-3)\n",
    "    cv.rotate_x(-1)\n",
    "    time.sleep(0.1)    "
   ]
  },
  {
   "cell_type": "code",
   "execution_count": null,
   "id": "bc11d0ff-ff49-4d28-b4fd-a188b8550d03",
   "metadata": {},
   "outputs": [],
   "source": [
    "cv.rotate_up(30)\n",
    "cv.rotate_left(30)"
   ]
  },
  {
   "cell_type": "code",
   "execution_count": null,
   "id": "9204431d-d108-4505-938e-3f04c7b70399",
   "metadata": {},
   "outputs": [],
   "source": [
    "cv.rotate_left(-30)\n",
    "cv.rotate_up(-30)"
   ]
  },
  {
   "cell_type": "markdown",
   "id": "65521ed7-512d-40d7-b4b0-0803604adf04",
   "metadata": {},
   "source": [
    "# Animation"
   ]
  },
  {
   "cell_type": "code",
   "execution_count": null,
   "id": "77997f4b-6c74-4f62-b257-9d7e06e62f74",
   "metadata": {},
   "outputs": [],
   "source": [
    "cv = cv2"
   ]
  },
  {
   "cell_type": "code",
   "execution_count": null,
   "id": "176fb700-592d-4bd5-adfb-0728e5dde472",
   "metadata": {},
   "outputs": [],
   "source": [
    "import numpy as np\n",
    "horizontal_angle = 25\n",
    "\n",
    "leg_names = {\n",
    "    \"right_back\", \"right_middle\", \"right_front\", \n",
    "    \"left_back\",  \"left_middle\", \"left_front\",\n",
    "    \n",
    "}\n",
    "\n",
    "def intervals(count):\n",
    "    r = [ min(180, (90 + i*(360 // count)) % 360) for i in range(count)]\n",
    "    return r \n",
    "\n",
    "def times(end, count):\n",
    "    return np.linspace(0, end, count+1).tolist()\n",
    "    \n",
    "def vertical(count, end, offset, reverse):\n",
    "    ints = intervals(count)\n",
    "    heights = [round(35 * np.sin(np.deg2rad(x)) - 15, 1) for x in ints]\n",
    "    heights.append(heights[0])\n",
    "    return times(end, count), heights[offset:] + heights[1:offset+1]\n",
    "\n",
    "def horizontal(end, reverse):\n",
    "    factor = 1 if reverse else -1\n",
    "    return times(end, 4), [0, factor * horizontal_angle, 0, -factor * horizontal_angle, 0]\n",
    "\n",
    "leg_group = (\"left_front\", \"right_middle\", \"left_back\")"
   ]
  },
  {
   "cell_type": "code",
   "execution_count": null,
   "id": "a3bd1c42-e2d8-46a5-ae2e-3701f326fa3b",
   "metadata": {},
   "outputs": [],
   "source": [
    "tracks = []\n",
    "\n",
    "for name in leg_names:\n",
    "    # move upper leg\n",
    "    cv.add_track(AnimationTrack(f\"/bottom/{name}\", \"rz\", *horizontal(4, \"middle\" in name)))\n",
    "\n",
    "cv.animate(5)\n",
    "cv.play()"
   ]
  },
  {
   "cell_type": "code",
   "execution_count": null,
   "id": "4412ef36-c26f-41fc-ac4e-bacf01010b26",
   "metadata": {},
   "outputs": [],
   "source": [
    "cv.stop()"
   ]
  },
  {
   "cell_type": "code",
   "execution_count": null,
   "id": "84324b37-905f-4f11-957a-2cf5c3134ca6",
   "metadata": {},
   "outputs": [],
   "source": [
    "for name in leg_names:\n",
    "    # move lower leg\n",
    "    cv.add_track(AnimationTrack(f\"/bottom/{name}/lower\", \"rz\", *vertical(8, 4, 0 if name in leg_group else 4, \"left\" in name)))\n",
    "    \n",
    "cv.animate(2)\n",
    "cv.play()"
   ]
  },
  {
   "cell_type": "code",
   "execution_count": null,
   "id": "3a7ddab6-da5e-4f05-a189-b8157593f099",
   "metadata": {},
   "outputs": [],
   "source": [
    "[a.to_array() for a in cv.tracks]"
   ]
  },
  {
   "cell_type": "code",
   "execution_count": null,
   "id": "69ee5825-ec43-422d-903f-bed194c15aa6",
   "metadata": {},
   "outputs": [],
   "source": [
    "cv.clear_tracks()"
   ]
  },
  {
   "cell_type": "markdown",
   "id": "59d2fa28-d44d-4911-8b61-6f4284507643",
   "metadata": {},
   "source": [
    "# No Widget, Javascript only"
   ]
  },
  {
   "cell_type": "code",
   "execution_count": null,
   "id": "bdfaa79e-3e14-4a49-b329-9ea73db934f8",
   "metadata": {},
   "outputs": [],
   "source": [
    "import json\n",
    "from IPython.display import Javascript, HTML\n",
    "from cad_viewer_widget.utils import serializer\n",
    "from uuid import uuid4\n",
    " \n",
    "def embed(\n",
    "    shapes, states, cad_width=800, height=600, tree_width=240, theme=\"light\", tools=True, \n",
    "    tracks=None, ortho=True, control=\"trackball\", axes=False, axes0=False, grid=None, ticks=10, normal_len=0, \n",
    "    transparent=False, black_edges=False, edge_color=\"#707070\", ambient_intensity=0.9, direct_intensity=0.12, \n",
    "    position=None, quaternion=None, zoom=None, \n",
    "    reset_camera=True, zoom_speed=1.0, pan_speed=1.0, rotate_speed=1.0):\n",
    "    \n",
    "    uid = str(uuid4())\n",
    "    display(HTML(f\"\"\"\n",
    "        <div id='cad_view_{uid}'></div>\n",
    "        <script type=\"text/javascript\">\n",
    "           console.log(\"XXX\");\n",
    "        </script>\n",
    "    \"\"\"))\n",
    "    if grid is None:\n",
    "        grid_js = '[false, false, false]'\n",
    "    else:\n",
    "        grid_js = json.dumps(grid)\n",
    "        \n",
    "    display(Javascript(\n",
    "    f\"\"\"\n",
    "    function render() {{\n",
    "        const options = {{\n",
    "            theme: \"{theme}\",\n",
    "            ortho: {json.dumps(ortho)},\n",
    "            control: \"{control}\",\n",
    "            tools: {json.dumps(tools)},\n",
    "            normalLen: {normal_len},\n",
    "            cadWidth: {cad_width},\n",
    "            height: {height},\n",
    "            treeWidth: {tree_width},\n",
    "            ticks: {ticks},\n",
    "            normalLen: {normal_len},\n",
    "            edgeColor: \"{edge_color}\",\n",
    "            ambientIntensity: {ambient_intensity},\n",
    "            directIntensity: {direct_intensity},\n",
    "            transparent: {json.dumps(transparent)},\n",
    "            blackEdges: {json.dumps(black_edges)},\n",
    "            axes: {json.dumps(axes)},\n",
    "            grid: {grid_js}, \n",
    "            rotateSpeed: {rotate_speed},\n",
    "            panSpeed: {pan_speed},\n",
    "            zoomSpeed: {zoom_speed}\n",
    "        }};\n",
    "        console.log(options)\n",
    "\n",
    "        const container = document.getElementById(\"cad_view_{uid}\");\n",
    "        const display = new CadViewer.Display(container, options);\n",
    "        display.setAnimationControl(false)\n",
    "        \n",
    "        const shapes = {shapes};\n",
    "        const states = {states};\n",
    "        const viewer = new CadViewer.Viewer(display, options);\n",
    "        const tessAndTree = viewer.renderTessellatedShapes(shapes, states);\n",
    "        viewer.render(\n",
    "            ...tessAndTree, states,\n",
    "            {json.dumps(position)},\n",
    "            {json.dumps(quaternion)},\n",
    "            {json.dumps(zoom)}\n",
    "        )\n",
    "    }}\n",
    "    console.log(\"INIT\")\n",
    "    var viewerLib = document.createElement('script');\n",
    "    viewerLib.type = 'text/javascript';\n",
    "    viewerLib.src = 'https://unpkg.com/three-cad-viewer@1.0.0/dist/three-cad-viewer.js'\n",
    "\n",
    "    if(window.CadViewer == null) {{\n",
    "        console.log(\"Loading three-cad-viewer ...\")\n",
    "        viewerLib.onload = () => {{\n",
    "            render()\n",
    "        }}\n",
    "        document.head.appendChild(viewerLib);\n",
    "    }} else {{\n",
    "       render()\n",
    "    }}\n",
    "    \"\"\"))"
   ]
  },
  {
   "cell_type": "code",
   "execution_count": null,
   "id": "00385a40-2669-499a-ae91-5be0da652d4b",
   "metadata": {},
   "outputs": [],
   "source": [
    "name = \"box1\"\n",
    "sh = json.dumps(objects[name], default=serializer)\n",
    "st = json.dumps(states[name])\n",
    "\n",
    "embed(sh, st, tools=False, axes=True, transparent=True)"
   ]
  },
  {
   "cell_type": "code",
   "execution_count": null,
   "id": "8da5cfbf-dd9a-41aa-acc7-e692ba9c789f",
   "metadata": {},
   "outputs": [],
   "source": [
    "import ipywidgets as w\n",
    "w.IntSlider(3,0,10)"
   ]
  },
  {
   "cell_type": "code",
   "execution_count": null,
   "id": "bd34f945-4dff-4daf-9f6a-deb31a5dc017",
   "metadata": {},
   "outputs": [],
   "source": []
  },
  {
   "cell_type": "code",
   "execution_count": null,
   "id": "6eaf8651-5511-48f3-b19a-22a9ec8fe329",
   "metadata": {},
   "outputs": [],
   "source": [
    "import zlib\n",
    "from base64 import b64encode\n",
    "\n",
    "class ShapeEncode(json.JSONEncoder):\n",
    "    def default(self, obj):\n",
    "        print(type(obj))\n",
    "        def compress(obj, dtype):\n",
    "            cobj = zlib.compress(obj.reshape(-1).astype(dtype).tobytes(order=\"C\"))\n",
    "            return b64encode(cobj).decode()\n",
    "\n",
    "        if isinstance(obj, np.ndarray):\n",
    "            if obj.dtype in (np.float32, np.float64):\n",
    "                return (\"_f32\", obj.shape, compress(obj, \"float32\"))\n",
    "            elif obj.dtype in (np.int32, np.int64):\n",
    "                return (\"_i32\", obj.shape, compress(obj, \"int32\"))\n",
    "            else:\n",
    "                raise Exception(\"unknown numpy type\")\n",
    "        raise TypeError(\"Unknown type:\", type(obj))\n"
   ]
  },
  {
   "cell_type": "code",
   "execution_count": null,
   "id": "27e5e75a-14ec-46fa-b229-a9b9c3bf5587",
   "metadata": {},
   "outputs": [],
   "source": [
    "import numpy as np\n",
    "name=\"hexapod\"\n",
    "len(b64encode(zlib.compress(json.dumps(objects[name]).encode(\"utf-8\"))))"
   ]
  },
  {
   "cell_type": "code",
   "execution_count": null,
   "id": "2b4e66bb-36d3-4c42-8460-e0a6b0704072",
   "metadata": {},
   "outputs": [],
   "source": [
    "len(json.dumps(objects[name]).encode(\"utf-8\"))"
   ]
  },
  {
   "cell_type": "code",
   "execution_count": null,
   "id": "640588b9-4f1e-4b68-82af-9e9208d2f2d8",
   "metadata": {},
   "outputs": [],
   "source": [
    "print(f\"<div id='cad_view_{23}' onload='console.log(\\\"XXX\\\")'></div>\")"
   ]
  },
  {
   "cell_type": "code",
   "execution_count": null,
   "id": "c22270e1-a982-4ede-8089-59ffcf254d5a",
   "metadata": {},
   "outputs": [],
   "source": [
    "def complex_encoder(z):\n",
    "    print(z)\n",
    "    if isinstance(z, complex):\n",
    "        return (z.real, z.imag)\n",
    "    else:\n",
    "        type_name = z.__class__.__name__\n",
    "        raise TypeError(f\"Object of type {type_name} is not serializable\")\n",
    "        \n",
    "json.dumps(4+6j, default=complex_encoder)"
   ]
  },
  {
   "cell_type": "code",
   "execution_count": null,
   "id": "23191ae5-2c9b-4cfb-9a3e-06fa4f254fed",
   "metadata": {},
   "outputs": [],
   "source": [
    "sc.close()"
   ]
  },
  {
   "cell_type": "code",
   "execution_count": null,
   "id": "c95d40a2-8116-403c-9547-0e58b7278db7",
   "metadata": {},
   "outputs": [],
   "source": [
    "import ipywidgets as w\n",
    "out = w.Output()\n",
    "out"
   ]
  },
  {
   "cell_type": "code",
   "execution_count": null,
   "id": "69419535-6e1c-4750-8926-e5128e765773",
   "metadata": {},
   "outputs": [],
   "source": [
    "from PIL import Image, ImageDraw\n",
    "\n",
    "def line(output_path):\n",
    "    image = Image.new(\"RGB\", (400, 400), \"lightgray\")\n",
    "    points = [(100, 100), (150, 200), (200, 50), (400, 400)]\n",
    "    draw = ImageDraw.Draw(image)\n",
    "    draw.line(points, width=15, fill=\"green\", joint=\"curve\")\n",
    "    return image\n",
    "\n",
    "with out:\n",
    "    display(line(\"jointed_lines.jpg\"))"
   ]
  }
 ],
 "metadata": {
  "language_info": {
   "name": "python",
   "pygments_lexer": "ipython3"
  },
  "kernelspec": {
   "display_name": "Python 3",
   "language": "python",
   "name": "python3"
  }
 },
 "nbformat": 4,
 "nbformat_minor": 5
}
