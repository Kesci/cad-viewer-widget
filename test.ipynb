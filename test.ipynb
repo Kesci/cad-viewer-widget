{
 "cells": [
  {
   "cell_type": "code",
   "execution_count": null,
   "id": "e014e63e-43f9-41c3-ae0c-42c7f745690c",
   "metadata": {},
   "outputs": [],
   "source": [
    "import numpy as np\n",
    "import json\n",
    "import asyncio\n",
    "from cad_viewer_widget import CadViewer"
   ]
  },
  {
   "cell_type": "code",
   "execution_count": null,
   "id": "06d7a35d-c99c-47d7-94d3-622f21559f86",
   "metadata": {},
   "outputs": [],
   "source": [
    "box1 = {\n",
    "    \"name\": \"Group\",\n",
    "    \"id\": \"/Group\",\n",
    "    \"loc\": None,\n",
    "    \"parts\": [\n",
    "        {\n",
    "            \"type\": \"shapes\",\n",
    "            \"id\": \"/Group/Part_0\",            \n",
    "            \"name\": \"Part_0\",\n",
    "            \"color\": \"#e8b024\",            \n",
    "            \"shape\": {\n",
    "                \"vertices\": np.asarray([\n",
    "                    [-0.5, -0.5, -0.5],\n",
    "                    [-0.5, -0.5, 0.5],\n",
    "                    [-0.5, 0.5, -0.5],\n",
    "                    [-0.5, 0.5, 0.5],\n",
    "                    [0.5, -0.5, -0.5],\n",
    "                    [0.5, -0.5, 0.5],\n",
    "                    [0.5, 0.5, -0.5],\n",
    "                    [0.5, 0.5, 0.5],\n",
    "                    [-0.5, -0.5, -0.5],\n",
    "                    [0.5, -0.5, -0.5],\n",
    "                    [-0.5, -0.5, 0.5],\n",
    "                    [0.5, -0.5, 0.5],\n",
    "                    [-0.5, 0.5, -0.5],\n",
    "                    [0.5, 0.5, -0.5],\n",
    "                    [-0.5, 0.5, 0.5],\n",
    "                    [0.5, 0.5, 0.5],\n",
    "                    [-0.5, -0.5, -0.5],\n",
    "                    [-0.5, 0.5, -0.5],\n",
    "                    [0.5, -0.5, -0.5],\n",
    "                    [0.5, 0.5, -0.5],\n",
    "                    [-0.5, -0.5, 0.5],\n",
    "                    [-0.5, 0.5, 0.5],\n",
    "                    [0.5, -0.5, 0.5],\n",
    "                    [0.5, 0.5, 0.5]\n",
    "                ]),\n",
    "                \"triangles\": [\n",
    "                    1, 2, 0, \n",
    "                    1, 3, 2, \n",
    "                    5, 4, 6, \n",
    "                    5, 6, 7, \n",
    "                    11, 8, 9, \n",
    "                    11, 10, 8, \n",
    "                    15, 13, 12, \n",
    "                    15, 12, 14, \n",
    "                    19, 16, 17, \n",
    "                    19, 18, 16, \n",
    "                    23, 21, 20, \n",
    "                    23, 20, 22],\n",
    "                \"normals\": np.asarray([\n",
    "                    [-1.0, -0.0, 0.0],\n",
    "                    [-1.0, -0.0, 0.0],\n",
    "                    [-1.0, -0.0, 0.0],\n",
    "                    [-1.0, -0.0, 0.0],\n",
    "                    [1.0, 0.0, -0.0],\n",
    "                    [1.0, 0.0, -0.0],\n",
    "                    [1.0, 0.0, -0.0],\n",
    "                    [1.0, 0.0, -0.0],\n",
    "                    [-0.0, -1.0, -0.0],\n",
    "                    [-0.0, -1.0, -0.0],\n",
    "                    [-0.0, -1.0, -0.0],\n",
    "                    [-0.0, -1.0, -0.0],\n",
    "                    [0.0, 1.0, 0.0],\n",
    "                    [0.0, 1.0, 0.0],\n",
    "                    [0.0, 1.0, 0.0],\n",
    "                    [0.0, 1.0, 0.0],\n",
    "                    [-0.0, -0.0, -1.0],\n",
    "                    [-0.0, -0.0, -1.0],\n",
    "                    [-0.0, -0.0, -1.0],\n",
    "                    [-0.0, -0.0, -1.0],\n",
    "                    [0.0, 0.0, 1.0],\n",
    "                    [0.0, 0.0, 1.0],\n",
    "                    [0.0, 0.0, 1.0],\n",
    "                    [0.0, 0.0, 1.0]\n",
    "                ]),\n",
    "                \"edges\": np.asarray([\n",
    "                        [[-0.5, -0.5, -0.5], [-0.5, -0.5, 0.5]],\n",
    "                        [[-0.5, -0.5, 0.5], [-0.5, 0.5, 0.5]],\n",
    "                        [[-0.5, 0.5, -0.5], [-0.5, 0.5, 0.5]],\n",
    "                        [[-0.5, -0.5, -0.5], [-0.5, 0.5, -0.5]],\n",
    "                        [[0.5, -0.5, -0.5], [0.5, -0.5, 0.5]],\n",
    "                        [[0.5, -0.5, 0.5], [0.5, 0.5, 0.5]],\n",
    "                        [[0.5, 0.5, -0.5], [0.5, 0.5, 0.5]],\n",
    "                        [[0.5, -0.5, -0.5], [0.5, 0.5, -0.5]],\n",
    "                        [[-0.5, -0.5, -0.5], [0.5, -0.5, -0.5]],\n",
    "                        [[-0.5, -0.5, 0.5], [0.5, -0.5, 0.5]],\n",
    "                        [[-0.5, 0.5, -0.5], [0.5, 0.5, -0.5]],\n",
    "                        [[-0.5, 0.5, 0.5], [0.5, 0.5, 0.5]]\n",
    "                ])\n",
    "            }\n",
    "        }\n",
    "    ]\n",
    "}\n",
    "\n",
    "\n",
    "states = { \"/Group/Part_0\":[1,1] }"
   ]
  },
  {
   "cell_type": "code",
   "execution_count": null,
   "id": "a9f4b252-28df-4551-a8ed-bba03c6f02ce",
   "metadata": {},
   "outputs": [],
   "source": [
    "cv = CadViewer(options={\"cadWidth\":640, \"height\":480, \"theme\":\"light\"})\n",
    "cv.add_shapes(box1, states, options={})"
   ]
  },
  {
   "cell_type": "code",
   "execution_count": null,
   "id": "41a95091-47ad-4213-857c-ba4573d50c94",
   "metadata": {},
   "outputs": [],
   "source": [
    "from ipywidgets import Output\n",
    "out = Output()\n",
    "\n",
    "def action(result):\n",
    "    with out:\n",
    "        print(json.loads(result))\n",
    "out"
   ]
  },
  {
   "cell_type": "code",
   "execution_count": null,
   "id": "a14a6822-3da1-42d8-af4b-624cf423b3dc",
   "metadata": {},
   "outputs": [],
   "source": [
    "cv.execute(\"viewer.camera.position\", \"set\", (1,0,0), update=True, callback=action)"
   ]
  },
  {
   "cell_type": "code",
   "execution_count": null,
   "id": "cc353456-d019-4c9e-9745-b246fd75860d",
   "metadata": {},
   "outputs": [],
   "source": [
    "cv.set(\"viewer.camera.zoom\", 1.2, update=True, callback=action)"
   ]
  },
  {
   "cell_type": "code",
   "execution_count": null,
   "id": "9a737420-a93e-4f3d-b34c-c465091f3c83",
   "metadata": {},
   "outputs": [],
   "source": [
    "cv.get(\"viewer.camera.position\", callback=action)"
   ]
  },
  {
   "cell_type": "code",
   "execution_count": null,
   "id": "bbcf33bb-1282-4f30-a111-dc1c3fa935ee",
   "metadata": {},
   "outputs": [],
   "source": []
  }
 ],
 "metadata": {
  "kernelspec": {
   "display_name": "Python 3",
   "language": "python",
   "name": "python3"
  },
  "language_info": {
   "codemirror_mode": {
    "name": "ipython",
    "version": 3
   },
   "file_extension": ".py",
   "mimetype": "text/x-python",
   "name": "python",
   "nbconvert_exporter": "python",
   "pygments_lexer": "ipython3",
   "version": "3.8.10"
  },
  "widgets": {
   "application/vnd.jupyter.widget-state+json": {
    "state": {
     "3fc41fd9749d4aa0943197209665b36e": {
      "model_module": "@jupyter-widgets/output",
      "model_module_version": "1.0.0",
      "model_name": "OutputModel",
      "state": {
       "layout": "IPY_MODEL_50dee06854e54b12a4d549f20be45e2f"
      }
     },
     "3fdac10c18954c8ea367446ef2719c42": {
      "model_module": "@jupyter-widgets/output",
      "model_module_version": "1.0.0",
      "model_name": "OutputModel",
      "state": {
       "layout": "IPY_MODEL_634328d7963a4d6c9c02ddb6ca94cfdb",
       "outputs": [
        {
         "name": "stdout",
         "output_type": "stream",
         "text": "{'msg_id': 6, 'result': {'x': 0.9999999999999997, 'y': 0.9999999999999994, 'z': 0.9999999999999997}}\n{'msg_id': 7, 'result': [0.5]}\n{'msg_id': 8, 'result': {'x': 0.9999999999999993, 'y': 0.9999999999999992, 'z': 0.9999999999999992}}\n"
        }
       ]
      }
     },
     "43f30a10e73241e2b06f749bd1581d69": {
      "model_module": "@jupyter-widgets/output",
      "model_module_version": "1.0.0",
      "model_name": "OutputModel",
      "state": {
       "layout": "IPY_MODEL_d781a2399dc24de8a4efda552038912b",
       "outputs": [
        {
         "name": "stdout",
         "output_type": "stream",
         "text": "{'msg_id': 9, 'result': {'x': 0.9999999999999997, 'y': 0.9999999999999994, 'z': 0.9999999999999997}}\n{'msg_id': 10, 'result': {'x': 0.9999999999999997, 'y': -6.123233995736764e-17, 'z': 6.123233995736764e-17}}\n{'msg_id': 11, 'result': [1.2]}\n{'msg_id': 12, 'result': {'x': 0.9999999999999993, 'y': -6.123233995736762e-17, 'z': 6.123233995736762e-17}}\n{'msg_id': 13, 'result': {'x': 0.9999999999999993, 'y': -6.123233995736762e-17, 'z': 6.123233995736762e-17}}\n{'msg_id': 14, 'result': [1.2]}\n"
        }
       ]
      }
     },
     "50dee06854e54b12a4d549f20be45e2f": {
      "model_module": "@jupyter-widgets/base",
      "model_module_version": "1.2.0",
      "model_name": "LayoutModel",
      "state": {}
     },
     "634328d7963a4d6c9c02ddb6ca94cfdb": {
      "model_module": "@jupyter-widgets/base",
      "model_module_version": "1.2.0",
      "model_name": "LayoutModel",
      "state": {}
     },
     "af591e107e0d4b48b3cb75b25bf55043": {
      "model_module": "@jupyter-widgets/output",
      "model_module_version": "1.0.0",
      "model_name": "OutputModel",
      "state": {
       "layout": "IPY_MODEL_c770513e30fc44e8bab479d390ca9113",
       "outputs": [
        {
         "name": "stdout",
         "output_type": "stream",
         "text": "{\"msg_id\":1,\"result\":{\"x\":0.9999999999999997,\"y\":0.9999999999999994,\"z\":0.9999999999999997}}\n{\"msg_id\":2,\"result\":[0.5]}\n{\"msg_id\":3,\"result\":[0.5]}\n{\"msg_id\":4,\"result\":0.6978572102141091}\n{\"msg_id\":5,\"result\":{\"x\":0.9999999999999926,\"y\":0.9999999999999925,\"z\":0.9999999999999925}}\n"
        }
       ]
      }
     },
     "bef47854fdc2402ca892cbd5828067ac": {
      "model_module": "cad-viewer-widget",
      "model_module_version": "^0.1.0",
      "model_name": "CadViewerModel",
      "state": {
       "_model_module_version": "^0.1.0",
       "_view_module_version": "^0.1.0",
       "options": {
        "ambientIntensity": 0.9,
        "cadWidth": 640,
        "directIntensity": 0.12,
        "height": 480,
        "measure": false,
        "needsAnimationLoop": false,
        "normalLen": 0,
        "ortho": true,
        "theme": "light",
        "treeWidth": 240
       },
       "result": "{\"msg_id\":14,\"result\":[1.2]}",
       "shapes": {
        "options": {
         "ambientIntensity": 0.9,
         "cadWidth": 640,
         "directIntensity": 0.12,
         "height": 480,
         "needsAnimationLoop": false,
         "normalLen": 0,
         "ortho": true,
         "theme": "light",
         "treeWidth": 240
        },
        "shapes": "{\"name\": \"Group\", \"id\": \"/Group\", \"loc\": null, \"parts\": [{\"type\": \"shapes\", \"id\": \"/Group/Part_0\", \"name\": \"Part_0\", \"color\": \"#e8b024\", \"shape\": {\"vertices\": [\"_f32\", [24, 3], \"eJxjYGDYz4CJ7dFoGNseixg2OWxq0c1DNxebvdjsQ8ekuB2XOlxutwcA8hQjuQ==\"], \"triangles\": [1, 2, 0, 1, 3, 2, 5, 4, 6, 5, 6, 7, 11, 8, 9, 11, 10, 8, 15, 13, 12, 15, 12, 14, 19, 16, 17, 19, 18, 16, 23, 21, 20, 23, 20, 22], \"normals\": [\"_f32\", [24, 3], \"eJxjYGjYz8DA0MAABkSx7RmgDOLYYP5+EtjIdhDDJtUOYs0FswFs8yPp\"], \"edges\": [\"_f32\", [12, 2, 3], \"eJxjYGDYz4CJ7bGw7dHY+7GIYzODGLOwYWxyxNqJLobuFmzuwOoWACIjI7k=\"]}}]}",
        "states": {
         "/Group/Part_0": [
          1,
          1
         ]
        }
       },
       "tracks": []
      }
     },
     "c770513e30fc44e8bab479d390ca9113": {
      "model_module": "@jupyter-widgets/base",
      "model_module_version": "1.2.0",
      "model_name": "LayoutModel",
      "state": {}
     },
     "d781a2399dc24de8a4efda552038912b": {
      "model_module": "@jupyter-widgets/base",
      "model_module_version": "1.2.0",
      "model_name": "LayoutModel",
      "state": {}
     }
    },
    "version_major": 2,
    "version_minor": 0
   }
  }
 },
 "nbformat": 4,
 "nbformat_minor": 5
}
