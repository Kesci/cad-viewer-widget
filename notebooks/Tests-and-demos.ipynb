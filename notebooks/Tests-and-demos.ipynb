{
 "cells": [
  {
   "cell_type": "markdown",
   "id": "300fc4db-7af9-4dca-beb0-39fe0b30d418",
   "metadata": {},
   "source": [
    "# The Viewer"
   ]
  },
  {
   "cell_type": "code",
   "execution_count": null,
   "id": "e54596f1-61d6-4704-90de-a405f8fe6b00",
   "metadata": {},
   "outputs": [],
   "source": [
    "import numpy as np\n",
    "import json\n",
    "import time\n",
    "import ipywidgets as widgets\n",
    "from cad_viewer_widget import AnimationTrack, CadViewer, show, get_sidecar, get_sidecars, get_default, close_sidecar, close_sidecars, open_viewer, set_default\n",
    "\n",
    "from cad_viewer_widget.utils import numpyify\n",
    "\n",
    "names = [\"hexapod\", \"hexapod_m\", \"box\", \"box1\", \"boxes\", \"edges\", \"faces\", \"vertices\", \"pylones\", \"box-edges\", \"box-faces\", \"box-vertices\"]\n",
    "objects = {}\n",
    "states = {}\n",
    "\n",
    "for name in names:\n",
    "    with open(f\"../examples/{name}.json\", \"r\") as fd:\n",
    "        objects[name] = numpyify(json.load(fd))\n",
    "\n",
    "    with open(f\"../examples/{name}-states.json\", \"r\") as fd:\n",
    "        states[name] = json.load(fd)"
   ]
  },
  {
   "cell_type": "markdown",
   "id": "1adc86c0-7f97-413e-852f-8abd668f30ca",
   "metadata": {},
   "source": [
    "# Sidecar handling"
   ]
  },
  {
   "cell_type": "markdown",
   "id": "0d213e9d-8ec8-48aa-bb35-da7c1ea5ead7",
   "metadata": {},
   "source": [
    "## openviewer and add_shapes"
   ]
  },
  {
   "cell_type": "code",
   "execution_count": null,
   "id": "6942399f-9309-4555-9a80-e542a2154941",
   "metadata": {},
   "outputs": [],
   "source": [
    "cv2 = open_viewer(\n",
    "    title=\"CVW 2\",\n",
    "    anchor=\"split-right\",\n",
    "    cad_width=640,\n",
    "    tree_width=250,\n",
    "    height=480,\n",
    "    theme=\"light\",\n",
    ")"
   ]
  },
  {
   "cell_type": "code",
   "execution_count": null,
   "id": "97f60f6c-9766-4627-bdb8-c74e8395b4cf",
   "metadata": {},
   "outputs": [],
   "source": [
    "name = \"hexapod\"\n",
    "cv2.add_shapes(\n",
    "    objects[name], \n",
    "    states[name],\n",
    "\n",
    "    #tools=False,\n",
    "    #ortho=False,\n",
    "    control=\"trackball\",\n",
    "    #control=\"orbit\",\n",
    "    axes=False,\n",
    "    axes0=False,\n",
    "    grid=(True,True, False),\n",
    "    ticks=10,\n",
    "    transparent=True,\n",
    "    #black_edges=True,\n",
    "\n",
    "    normal_len=0,\n",
    "    default_edge_color=\"#707070\",\n",
    "    default_opacity=0.5,\n",
    "    ambient_intensity=0.5,\n",
    "    direct_intensity=0.3,\n",
    "\n",
    "    reset_camera=False,\n",
    "    #position = (865.4844022079983, -276.23389988421786, 335.21716816984906),\n",
    "    #quaternion = (0.43557639340677845, 0.3648618806188253, 0.4409953598863984, 0.6947460731351442),\n",
    "    #zoom=0.5,\n",
    "    timeit=False,\n",
    "    \n",
    "    zoom_speed=0.5,\n",
    "    pan_speed=0.5,\n",
    "    rotate_speed=1.0,\n",
    "    js_debug=True,\n",
    ")"
   ]
  },
  {
   "cell_type": "markdown",
   "id": "57678a36-1103-4c96-ae39-f2f79a85921a",
   "metadata": {},
   "source": [
    "## show"
   ]
  },
  {
   "cell_type": "code",
   "execution_count": null,
   "id": "0a85a650-fa48-410a-b79f-b3c112d33dcf",
   "metadata": {},
   "outputs": [],
   "source": [
    "name = \"hexapod\"\n",
    "cv = show(\n",
    "    objects[name], \n",
    "    states[name],\n",
    "    title=\"CVW 1\",\n",
    "    height=480,\n",
    "    cad_width=640,\n",
    "    tools=True,\n",
    ")"
   ]
  },
  {
   "cell_type": "code",
   "execution_count": null,
   "id": "25bb9904-f331-43c6-b0c7-4ea9bb74715f",
   "metadata": {},
   "outputs": [],
   "source": [
    "name = \"boxes\"\n",
    "cv2 = show(\n",
    "    objects[name], \n",
    "    states[name],\n",
    "    title=\"CVW 2\",\n",
    "    anchor=\"split-right\",\n",
    "    height=480,\n",
    "    cad_width=640,\n",
    "    \n",
    "    ortho=False,\n",
    "    control=\"orbit\",\n",
    "    axes=True,\n",
    "    grid=(True,True, False),\n",
    "    ticks=5,\n",
    "    transparent=True,\n",
    "    #black_edges=True,\n",
    "\n",
    "    normal_len=2,\n",
    "    default_edge_color=\"#707070\",\n",
    "    default_opacity=0.5,\n",
    "    ambient_intensity=0.5,\n",
    "    direct_intensity=0.3,    \n",
    ")"
   ]
  },
  {
   "cell_type": "code",
   "execution_count": null,
   "id": "19b4953e-3b6a-44d5-86e8-91e70b6f2033",
   "metadata": {},
   "outputs": [],
   "source": [
    "cv.close()\n",
    "cv.disposed"
   ]
  },
  {
   "cell_type": "code",
   "execution_count": null,
   "id": "f1639c0f-10af-4414-9c2e-b87e765afbbb",
   "metadata": {},
   "outputs": [],
   "source": [
    "cv2.close()\n",
    "cv2.disposed"
   ]
  },
  {
   "cell_type": "markdown",
   "id": "deb41d73-8331-41ac-abd5-0c3c478c07f7",
   "metadata": {},
   "source": [
    "# Use default sidecar"
   ]
  },
  {
   "cell_type": "code",
   "execution_count": null,
   "id": "434d6178-2c52-49ec-a69d-454e07741800",
   "metadata": {},
   "outputs": [],
   "source": [
    "set_default(\"CVW 1\")"
   ]
  },
  {
   "cell_type": "code",
   "execution_count": null,
   "id": "1919ce62-5e42-439f-b389-bbb74d4b3f06",
   "metadata": {},
   "outputs": [],
   "source": [
    "name = \"faces\"\n",
    "cv = show(\n",
    "    objects[name], \n",
    "    states[name],\n",
    "    height=600,\n",
    "    cad_width=800,\n",
    "    reset_camera=False\n",
    ")"
   ]
  },
  {
   "cell_type": "code",
   "execution_count": null,
   "id": "a6aaed86-e0ae-4bd4-94fc-da4c441c20d0",
   "metadata": {},
   "outputs": [],
   "source": [
    "cv.dump_model()"
   ]
  },
  {
   "cell_type": "code",
   "execution_count": null,
   "id": "56901773-4222-4aa4-96dc-ea6a33af7b6f",
   "metadata": {},
   "outputs": [],
   "source": [
    "cv.widget.zoom = 1"
   ]
  },
  {
   "cell_type": "code",
   "execution_count": null,
   "id": "e0a45056-32e7-48a3-b89a-5590e6e9f738",
   "metadata": {},
   "outputs": [],
   "source": [
    "get_sidecar(\"CVW 1\").widget.position"
   ]
  },
  {
   "cell_type": "code",
   "execution_count": null,
   "id": "402dd662-0a3c-4df1-ba1d-2d9fe85e249d",
   "metadata": {},
   "outputs": [],
   "source": [
    "get_sidecars()"
   ]
  },
  {
   "cell_type": "code",
   "execution_count": null,
   "id": "93ade311-ade8-47ff-859c-0a044f347103",
   "metadata": {},
   "outputs": [],
   "source": [
    "cv.position, cv.quaternion"
   ]
  },
  {
   "cell_type": "code",
   "execution_count": null,
   "id": "fd9dd77d-1b8b-40f5-9fd5-efa0b4cb0da6",
   "metadata": {},
   "outputs": [],
   "source": [
    "close_sidecars()"
   ]
  },
  {
   "cell_type": "markdown",
   "id": "2154be31-0407-4a87-91b4-100e135c7d08",
   "metadata": {},
   "source": [
    "# Cell Handling"
   ]
  },
  {
   "cell_type": "code",
   "execution_count": null,
   "id": "d063c889-79be-402a-8230-7936a0ef1c9a",
   "metadata": {},
   "outputs": [],
   "source": [
    "name = \"hexapod\"\n",
    "cv3 = show(\n",
    "    objects[name],\n",
    "    states[name],\n",
    "    height=600,\n",
    "    cad_width=800,\n",
    "    control=\"trackball\",\n",
    "    tools=True,\n",
    "\n",
    "    axes=True,\n",
    "    axes0=True,\n",
    "    grid=[True, False, True],\n",
    "    transparent=True,\n",
    "    black_edges=True,\n",
    "    ortho=False,\n",
    "    timeit=True,\n",
    "#    normal_len=5,\n",
    "#    reset_camera=False,\n",
    ")"
   ]
  },
  {
   "cell_type": "code",
   "execution_count": null,
   "id": "e47f9799-10bd-4708-b233-4905f49a9e92",
   "metadata": {},
   "outputs": [],
   "source": [
    "cv3.widget.grid"
   ]
  },
  {
   "cell_type": "code",
   "execution_count": null,
   "id": "daf89154-8510-45f5-9a56-f8b974dafefc",
   "metadata": {},
   "outputs": [],
   "source": [
    "name = \"faces\"\n",
    "cv4 = show(\n",
    "    objects[name],\n",
    "    states[name],\n",
    "\n",
    "    height=600,\n",
    "    cad_width=800,\n",
    ")\n"
   ]
  },
  {
   "cell_type": "markdown",
   "id": "426a0d16-53eb-4020-adad-55efd39fb1f5",
   "metadata": {},
   "source": [
    "## Open viewer in cell"
   ]
  },
  {
   "cell_type": "code",
   "execution_count": null,
   "id": "08cbeb2c-e0bb-41ee-9399-8b5fdf6eb84c",
   "metadata": {},
   "outputs": [],
   "source": [
    "name = \"edges\"\n",
    "\n",
    "cv1 = show(\n",
    "    objects[name],\n",
    "    states[name], \n",
    "    cad_width=640, \n",
    "    height=480, \n",
    "    ortho=True,\n",
    "    control=\"trackball\",\n",
    "    grid=(False, False, False),\n",
    "    tools=True,\n",
    ")"
   ]
  },
  {
   "cell_type": "code",
   "execution_count": null,
   "id": "a081c018-0357-43e0-8c83-337179bafeb3",
   "metadata": {},
   "outputs": [],
   "source": [
    "name = \"faces\"\n",
    "\n",
    "cv2 = show(\n",
    "    objects[name],\n",
    "    states[name], \n",
    "    cad_width=640, \n",
    "    height=480, \n",
    "    ortho=True,\n",
    "    control=\"orbit\",\n",
    "    grid=(False, False, False),\n",
    "    tools=True,\n",
    ")"
   ]
  },
  {
   "cell_type": "code",
   "execution_count": null,
   "id": "f32e38d8-cecd-456c-a722-4756c7142b2d",
   "metadata": {},
   "outputs": [],
   "source": [
    "from ipywidgets.embed import embed_minimal_html\n",
    "# !!! sc.close()\n",
    "embed_minimal_html('export.html', views=[cv2.widget], title='Widgets export')"
   ]
  },
  {
   "cell_type": "markdown",
   "id": "4dee49a8-9747-4bdf-ac30-422ef5edc51c",
   "metadata": {},
   "source": [
    "# Property access"
   ]
  },
  {
   "cell_type": "code",
   "execution_count": null,
   "id": "3947d28e-8f1e-41df-bea5-27b63679a7fd",
   "metadata": {},
   "outputs": [],
   "source": [
    "cv = open_viewer(\n",
    "    title = \"Examples\",\n",
    "    anchor=\"right\",\n",
    "    cad_width=640,\n",
    "    height=480\n",
    ")\n",
    "cv.js_debug=True"
   ]
  },
  {
   "cell_type": "markdown",
   "id": "6847f42d-0bba-4b60-aa70-d1f77df57d5c",
   "metadata": {},
   "source": [
    "## Adding shapes"
   ]
  },
  {
   "cell_type": "code",
   "execution_count": null,
   "id": "2047d07b-2653-479f-b9cc-29b3947d9496",
   "metadata": {},
   "outputs": [],
   "source": [
    "menu = widgets.Dropdown(\n",
    "    options=names,\n",
    "    value=names[0],\n",
    "    description='Number:',\n",
    "    disabled=False,\n",
    ")\n",
    "\n",
    "def on_change(change):\n",
    "    if change['type'] == 'change' and change['name'] == 'value':\n",
    "        name = change['new']\n",
    "        show(    \n",
    "            objects[name],\n",
    "            states[name],\n",
    "            title=\"Examples\",\n",
    "            control=\"orbit\"\n",
    "        )\n",
    "\n",
    "menu.observe(on_change)\n",
    "\n",
    "show(\n",
    "    objects[names[0]],\n",
    "    states[names[0]],\n",
    "    title=\"Examples\"    \n",
    ")\n",
    "menu"
   ]
  },
  {
   "cell_type": "markdown",
   "id": "da05a3f4-5077-46aa-8605-60f901683582",
   "metadata": {},
   "source": [
    "# Camera position control"
   ]
  },
  {
   "cell_type": "code",
   "execution_count": null,
   "id": "dfc24b91-eacb-4d21-809d-5fd0c599e981",
   "metadata": {},
   "outputs": [],
   "source": [
    "p0 = cv.position\n",
    "if cv.control == \"trackball\":\n",
    "    q0 = cv.quaternion\n",
    "else:\n",
    "    q0 = None\n",
    "p0, q0"
   ]
  },
  {
   "cell_type": "code",
   "execution_count": null,
   "id": "73daae57-3e17-4be3-be0f-a18f03c2135d",
   "metadata": {},
   "outputs": [],
   "source": [
    "cv.position = [-580.0, 200.0, 750.0]\n",
    "\n",
    "if cv.control == \"trackball\":\n",
    "    cv.quaternion = [-0.33, 0.026, 0.91, 0.24]\n",
    "\n",
    "cv.zoom = 0.5"
   ]
  },
  {
   "cell_type": "code",
   "execution_count": null,
   "id": "864f4d05-7e5a-4242-9ee5-ed9b3f9a41ad",
   "metadata": {},
   "outputs": [],
   "source": [
    "cv.position = p0\n",
    "\n",
    "if cv.control == \"trackball\":\n",
    "    cv.quaternion = q0\n",
    "    \n",
    "cv.zoom = 1"
   ]
  },
  {
   "cell_type": "markdown",
   "id": "ceca8f0b-8b51-4748-b36a-72f358a2284a",
   "metadata": {},
   "source": [
    "# Widget interaction"
   ]
  },
  {
   "cell_type": "code",
   "execution_count": null,
   "id": "032a0f61-2e70-4ab6-8f94-44495c41af2a",
   "metadata": {},
   "outputs": [],
   "source": [
    "cv.update_states({\n",
    "    '/bottom/bottom_0': (1,0),\n",
    "    '/bottom/top/top_0': [0,1],\n",
    "})"
   ]
  },
  {
   "cell_type": "code",
   "execution_count": null,
   "id": "5502d27e-17d3-4fb5-9fb0-5e603880c0ed",
   "metadata": {},
   "outputs": [],
   "source": [
    "cv.update_states({\n",
    "    '/bottom/bottom_0': (1,1),\n",
    "    '/bottom/top/top_0': [1,1],\n",
    "})"
   ]
  },
  {
   "cell_type": "code",
   "execution_count": null,
   "id": "ab92c5c8-091e-4696-9dd9-d0034dada310",
   "metadata": {},
   "outputs": [],
   "source": [
    "cv.ambient_intensity = 0.9\n",
    "cv.direct_intensity = 0.5"
   ]
  },
  {
   "cell_type": "code",
   "execution_count": null,
   "id": "0576ffc8-4578-4b45-8649-ef44f110cca6",
   "metadata": {},
   "outputs": [],
   "source": [
    "cv.ambient_intensity = 0.5\n",
    "cv.direct_intensity = 0.3"
   ]
  },
  {
   "cell_type": "code",
   "execution_count": null,
   "id": "4273581f-adb9-4eb1-89f1-4cc3248c828a",
   "metadata": {},
   "outputs": [],
   "source": [
    "ec = cv.default_edge_color"
   ]
  },
  {
   "cell_type": "code",
   "execution_count": null,
   "id": "ceda6296-2709-4f7c-ad32-55d3f316177d",
   "metadata": {},
   "outputs": [],
   "source": [
    "cv.default_edge_color = \"#ff0000\""
   ]
  },
  {
   "cell_type": "code",
   "execution_count": null,
   "id": "4e5f659b-9543-4aae-8f9d-99a8d4abf597",
   "metadata": {},
   "outputs": [],
   "source": [
    "cv.default_edge_color = ec"
   ]
  },
  {
   "cell_type": "code",
   "execution_count": null,
   "id": "83d2fa2a-3dc9-4cc3-b7ac-628e05c18c2f",
   "metadata": {},
   "outputs": [],
   "source": [
    "cv.grid = [not g for g in cv.widget.grid]"
   ]
  },
  {
   "cell_type": "code",
   "execution_count": null,
   "id": "26e92be6-06d4-442f-8007-f2c993e97b2e",
   "metadata": {},
   "outputs": [],
   "source": [
    "cv.axes = not cv.axes\n",
    "cv.axes0 = not cv.axes0\n",
    "cv.transparent = not cv.transparent\n",
    "cv.black_edges = not cv.black_edges"
   ]
  },
  {
   "cell_type": "code",
   "execution_count": null,
   "id": "cd49e3cc-c8dd-4a09-a54a-032169b1d906",
   "metadata": {},
   "outputs": [],
   "source": [
    "cv.tools = not cv.tools"
   ]
  },
  {
   "cell_type": "code",
   "execution_count": null,
   "id": "ed5ac81a-a329-4f5a-ab0a-f91ff6b6d9c9",
   "metadata": {},
   "outputs": [],
   "source": [
    "cv.ortho = not cv.ortho"
   ]
  },
  {
   "cell_type": "code",
   "execution_count": null,
   "id": "23ed8dbe-8293-4bde-a8ef-91484fe406a4",
   "metadata": {},
   "outputs": [],
   "source": [
    "cv.grid = [not g for g in cv.widget.grid]\n",
    "cv.axes = not cv.axes\n",
    "cv.axes0 = not cv.axes0\n",
    "cv.transparent = not cv.transparent\n",
    "cv.black_edges = not cv.black_edges\n",
    "cv.tools = not cv.tools\n",
    "cv.ortho = not cv.ortho"
   ]
  },
  {
   "cell_type": "code",
   "execution_count": null,
   "id": "1135f786-8f67-40b1-9d37-07c7faaeda6f",
   "metadata": {},
   "outputs": [],
   "source": [
    "cv.zoom_speed = 5\n",
    "cv.pan_speed = 5\n",
    "cv.rotate_speed = 5"
   ]
  },
  {
   "cell_type": "code",
   "execution_count": null,
   "id": "982397ff-1c84-4dba-8e24-c17351da4e91",
   "metadata": {},
   "outputs": [],
   "source": [
    "cv.zoom_speed =1\n",
    "cv.pan_speed =1\n",
    "cv.rotate_speed =1"
   ]
  },
  {
   "cell_type": "code",
   "execution_count": null,
   "id": "acf94bf4-1830-427a-bd7d-1b1cff945951",
   "metadata": {},
   "outputs": [],
   "source": [
    "cv.last_pick"
   ]
  },
  {
   "cell_type": "markdown",
   "id": "874c1bb1-38ad-42ae-aef4-c1f62888d7c9",
   "metadata": {},
   "source": [
    "# Clipping handling"
   ]
  },
  {
   "cell_type": "code",
   "execution_count": null,
   "id": "2ca1f312-491c-44c8-a21c-45913e4784d7",
   "metadata": {},
   "outputs": [],
   "source": [
    "cv.select_clipping()"
   ]
  },
  {
   "cell_type": "code",
   "execution_count": null,
   "id": "db5ad755-39c3-42f8-a130-5d9528f7613f",
   "metadata": {},
   "outputs": [],
   "source": [
    "cv.clip_intersection = not cv.clip_intersection"
   ]
  },
  {
   "cell_type": "code",
   "execution_count": null,
   "id": "49a5e5ea-b0b9-4876-9620-b574cfe5d7a6",
   "metadata": {},
   "outputs": [],
   "source": [
    "cv.clip_planes = not cv.clip_planes"
   ]
  },
  {
   "cell_type": "code",
   "execution_count": null,
   "id": "e64fe54a-756d-4a67-931f-4bcc7c3f77ee",
   "metadata": {},
   "outputs": [],
   "source": [
    "cv.clip_value_0 = 10\n",
    "cv.clip_value_1 = -50\n",
    "cv.clip_value_2 = 40"
   ]
  },
  {
   "cell_type": "code",
   "execution_count": null,
   "id": "96ed0bf9-dcac-4b4a-bb74-0dac28fb9797",
   "metadata": {},
   "outputs": [],
   "source": [
    "cv.clip_normal_0"
   ]
  },
  {
   "cell_type": "code",
   "execution_count": null,
   "id": "02503b30-d19b-4890-ae71-b3782b15abb0",
   "metadata": {},
   "outputs": [],
   "source": [
    "cv.clip_value_2"
   ]
  },
  {
   "cell_type": "code",
   "execution_count": null,
   "id": "f96ca9e5-8313-4f15-a6b2-c61adf7330c8",
   "metadata": {},
   "outputs": [],
   "source": [
    "cv.clip_normal_0 = (-0.35, -0.35, -0.35)"
   ]
  },
  {
   "cell_type": "code",
   "execution_count": null,
   "id": "34a375de-e4a2-4f45-aa2d-bae55e98a456",
   "metadata": {},
   "outputs": [],
   "source": [
    "cv.clip_normal_0 = (-1, 0, 0)"
   ]
  },
  {
   "cell_type": "code",
   "execution_count": null,
   "id": "18ec7a77-835b-4a37-9b1d-0aed8f291770",
   "metadata": {},
   "outputs": [],
   "source": [
    "cv.select_tree()"
   ]
  },
  {
   "cell_type": "markdown",
   "id": "ddb9b01a-5938-4e3b-b945-240f5d09b8b3",
   "metadata": {},
   "source": [
    "# Rotations"
   ]
  },
  {
   "cell_type": "code",
   "execution_count": null,
   "id": "a3cda18f-d084-4e52-811a-345939cea802",
   "metadata": {},
   "outputs": [],
   "source": [
    "for i in range(10):\n",
    "    cv.rotate_x(1)\n",
    "    cv.rotate_y(3)\n",
    "    cv.rotate_z(5)\n",
    "    time.sleep(0.1)"
   ]
  },
  {
   "cell_type": "code",
   "execution_count": null,
   "id": "7f8f2a28-f30c-4e00-a550-bef49d9b2666",
   "metadata": {},
   "outputs": [],
   "source": [
    "for i in range(10):\n",
    "    cv.rotate_z(-5)\n",
    "    cv.rotate_y(-3)\n",
    "    cv.rotate_x(-1)\n",
    "    time.sleep(0.1)    "
   ]
  },
  {
   "cell_type": "code",
   "execution_count": null,
   "id": "bc11d0ff-ff49-4d28-b4fd-a188b8550d03",
   "metadata": {},
   "outputs": [],
   "source": [
    "cv.rotate_up(30)\n",
    "cv.rotate_left(30)"
   ]
  },
  {
   "cell_type": "code",
   "execution_count": null,
   "id": "9204431d-d108-4505-938e-3f04c7b70399",
   "metadata": {},
   "outputs": [],
   "source": [
    "cv.rotate_left(-30)\n",
    "cv.rotate_up(-30)"
   ]
  },
  {
   "cell_type": "markdown",
   "id": "65521ed7-512d-40d7-b4b0-0803604adf04",
   "metadata": {},
   "source": [
    "# Animation"
   ]
  },
  {
   "cell_type": "code",
   "execution_count": null,
   "id": "d7df563d-e026-4c1d-b865-22adc09cfba6",
   "metadata": {},
   "outputs": [],
   "source": [
    "name = \"hexapod\"\n",
    "cv = show(\n",
    "    objects[name],\n",
    "    states[name],\n",
    "    title=\"Animation\",\n",
    "    height=600,\n",
    "    cad_width=800,\n",
    "    control=\"trackball\",\n",
    "    tools=True,\n",
    "\n",
    "    axes=True,\n",
    "    axes0=True,\n",
    "    grid=[True, False, True],\n",
    ")"
   ]
  },
  {
   "cell_type": "code",
   "execution_count": null,
   "id": "176fb700-592d-4bd5-adfb-0728e5dde472",
   "metadata": {},
   "outputs": [],
   "source": [
    "import numpy as np\n",
    "horizontal_angle = 25\n",
    "\n",
    "leg_names = {\n",
    "    \"right_back\", \"right_middle\", \"right_front\", \n",
    "    \"left_back\",  \"left_middle\", \"left_front\",\n",
    "    \n",
    "}\n",
    "\n",
    "def intervals(count):\n",
    "    r = [ min(180, (90 + i*(360 // count)) % 360) for i in range(count)]\n",
    "    return r \n",
    "\n",
    "def times(end, count):\n",
    "    return np.linspace(0, end, count+1).tolist()\n",
    "    \n",
    "def vertical(count, end, offset, reverse):\n",
    "    ints = intervals(count)\n",
    "    heights = [round(35 * np.sin(np.deg2rad(x)) - 15, 1) for x in ints]\n",
    "    heights.append(heights[0])\n",
    "    return times(end, count), heights[offset:] + heights[1:offset+1]\n",
    "\n",
    "def horizontal(end, reverse):\n",
    "    factor = 1 if reverse else -1\n",
    "    return times(end, 4), [0, factor * horizontal_angle, 0, -factor * horizontal_angle, 0]\n",
    "\n",
    "leg_group = (\"left_front\", \"right_middle\", \"left_back\")"
   ]
  },
  {
   "cell_type": "code",
   "execution_count": null,
   "id": "a3bd1c42-e2d8-46a5-ae2e-3701f326fa3b",
   "metadata": {},
   "outputs": [],
   "source": [
    "tracks = []\n",
    "\n",
    "for name in leg_names:\n",
    "    # move upper leg\n",
    "    cv.add_track(AnimationTrack(f\"/bottom/{name}\", \"rz\", *horizontal(4, \"middle\" in name)))\n",
    "\n",
    "cv.animate(5)\n",
    "cv.play()"
   ]
  },
  {
   "cell_type": "code",
   "execution_count": null,
   "id": "4412ef36-c26f-41fc-ac4e-bacf01010b26",
   "metadata": {},
   "outputs": [],
   "source": [
    "cv.stop()"
   ]
  },
  {
   "cell_type": "code",
   "execution_count": null,
   "id": "84324b37-905f-4f11-957a-2cf5c3134ca6",
   "metadata": {},
   "outputs": [],
   "source": [
    "for name in leg_names:\n",
    "    # move lower leg\n",
    "    cv.add_track(AnimationTrack(f\"/bottom/{name}/lower\", \"rz\", *vertical(8, 4, 0 if name in leg_group else 4, \"left\" in name)))\n",
    "    \n",
    "cv.animate(2)\n",
    "cv.play()"
   ]
  },
  {
   "cell_type": "code",
   "execution_count": null,
   "id": "69ee5825-ec43-422d-903f-bed194c15aa6",
   "metadata": {},
   "outputs": [],
   "source": [
    "cv.clear_tracks()"
   ]
  },
  {
   "cell_type": "markdown",
   "id": "fe96062a-b8fc-4b29-99e1-60b266793cba",
   "metadata": {},
   "source": [
    "# Embedding (experimental)"
   ]
  },
  {
   "cell_type": "code",
   "execution_count": null,
   "id": "00385a40-2669-499a-ae91-5be0da652d4b",
   "metadata": {},
   "outputs": [],
   "source": [
    "from cad_viewer_widget.embed import embed\n",
    "\n",
    "name = \"box1\"\n",
    "sh = json.dumps(objects[name], default=serializer)\n",
    "st = json.dumps(states[name])\n",
    "\n",
    "embed(sh, st, tools=False, axes=True, transparent=True)"
   ]
  }
 ],
 "metadata": {
  "language_info": {
   "name": "python",
   "pygments_lexer": "ipython3"
  },
  "kernelspec": {
   "display_name": "Python 3",
   "language": "python",
   "name": "python3"
  }
 },
 "nbformat": 4,
 "nbformat_minor": 5
}
