{
 "cells": [
  {
   "cell_type": "code",
   "execution_count": null,
   "id": "e014e63e-43f9-41c3-ae0c-42c7f745690c",
   "metadata": {},
   "outputs": [],
   "source": [
    "import numpy as np\n",
    "import json\n",
    "from cad_viewer_widget import CadViewer"
   ]
  },
  {
   "cell_type": "code",
   "execution_count": null,
   "id": "06d7a35d-c99c-47d7-94d3-622f21559f86",
   "metadata": {},
   "outputs": [],
   "source": [
    "box1 = {\n",
    "    \"name\": \"Group\",\n",
    "    \"id\": \"/Group\",\n",
    "    \"loc\": None,\n",
    "    \"parts\": [\n",
    "        {\n",
    "            \"type\": \"shapes\",\n",
    "            \"id\": \"/Group/Part_0\",            \n",
    "            \"name\": \"Part_0\",\n",
    "            \"color\": \"#e8b024\",            \n",
    "            \"shape\": {\n",
    "                \"vertices\": np.asarray([\n",
    "                    [-0.5, -0.5, -0.5],\n",
    "                    [-0.5, -0.5, 0.5],\n",
    "                    [-0.5, 0.5, -0.5],\n",
    "                    [-0.5, 0.5, 0.5],\n",
    "                    [0.5, -0.5, -0.5],\n",
    "                    [0.5, -0.5, 0.5],\n",
    "                    [0.5, 0.5, -0.5],\n",
    "                    [0.5, 0.5, 0.5],\n",
    "                    [-0.5, -0.5, -0.5],\n",
    "                    [0.5, -0.5, -0.5],\n",
    "                    [-0.5, -0.5, 0.5],\n",
    "                    [0.5, -0.5, 0.5],\n",
    "                    [-0.5, 0.5, -0.5],\n",
    "                    [0.5, 0.5, -0.5],\n",
    "                    [-0.5, 0.5, 0.5],\n",
    "                    [0.5, 0.5, 0.5],\n",
    "                    [-0.5, -0.5, -0.5],\n",
    "                    [-0.5, 0.5, -0.5],\n",
    "                    [0.5, -0.5, -0.5],\n",
    "                    [0.5, 0.5, -0.5],\n",
    "                    [-0.5, -0.5, 0.5],\n",
    "                    [-0.5, 0.5, 0.5],\n",
    "                    [0.5, -0.5, 0.5],\n",
    "                    [0.5, 0.5, 0.5]\n",
    "                ]),\n",
    "                \"triangles\": [\n",
    "                    1, 2, 0, \n",
    "                    1, 3, 2, \n",
    "                    5, 4, 6, \n",
    "                    5, 6, 7, \n",
    "                    11, 8, 9, \n",
    "                    11, 10, 8, \n",
    "                    15, 13, 12, \n",
    "                    15, 12, 14, \n",
    "                    19, 16, 17, \n",
    "                    19, 18, 16, \n",
    "                    23, 21, 20, \n",
    "                    23, 20, 22],\n",
    "                \"normals\": np.asarray([\n",
    "                    [-1.0, -0.0, 0.0],\n",
    "                    [-1.0, -0.0, 0.0],\n",
    "                    [-1.0, -0.0, 0.0],\n",
    "                    [-1.0, -0.0, 0.0],\n",
    "                    [1.0, 0.0, -0.0],\n",
    "                    [1.0, 0.0, -0.0],\n",
    "                    [1.0, 0.0, -0.0],\n",
    "                    [1.0, 0.0, -0.0],\n",
    "                    [-0.0, -1.0, -0.0],\n",
    "                    [-0.0, -1.0, -0.0],\n",
    "                    [-0.0, -1.0, -0.0],\n",
    "                    [-0.0, -1.0, -0.0],\n",
    "                    [0.0, 1.0, 0.0],\n",
    "                    [0.0, 1.0, 0.0],\n",
    "                    [0.0, 1.0, 0.0],\n",
    "                    [0.0, 1.0, 0.0],\n",
    "                    [-0.0, -0.0, -1.0],\n",
    "                    [-0.0, -0.0, -1.0],\n",
    "                    [-0.0, -0.0, -1.0],\n",
    "                    [-0.0, -0.0, -1.0],\n",
    "                    [0.0, 0.0, 1.0],\n",
    "                    [0.0, 0.0, 1.0],\n",
    "                    [0.0, 0.0, 1.0],\n",
    "                    [0.0, 0.0, 1.0]\n",
    "                ]),\n",
    "                \"edges\": np.asarray([\n",
    "                        [[-0.5, -0.5, -0.5], [-0.5, -0.5, 0.5]],\n",
    "                        [[-0.5, -0.5, 0.5], [-0.5, 0.5, 0.5]],\n",
    "                        [[-0.5, 0.5, -0.5], [-0.5, 0.5, 0.5]],\n",
    "                        [[-0.5, -0.5, -0.5], [-0.5, 0.5, -0.5]],\n",
    "                        [[0.5, -0.5, -0.5], [0.5, -0.5, 0.5]],\n",
    "                        [[0.5, -0.5, 0.5], [0.5, 0.5, 0.5]],\n",
    "                        [[0.5, 0.5, -0.5], [0.5, 0.5, 0.5]],\n",
    "                        [[0.5, -0.5, -0.5], [0.5, 0.5, -0.5]],\n",
    "                        [[-0.5, -0.5, -0.5], [0.5, -0.5, -0.5]],\n",
    "                        [[-0.5, -0.5, 0.5], [0.5, -0.5, 0.5]],\n",
    "                        [[-0.5, 0.5, -0.5], [0.5, 0.5, -0.5]],\n",
    "                        [[-0.5, 0.5, 0.5], [0.5, 0.5, 0.5]]\n",
    "                ])\n",
    "            }\n",
    "        }\n",
    "    ]\n",
    "}\n",
    "\n",
    "\n",
    "states = { \"/Group/Part_0\":[1,1] }"
   ]
  },
  {
   "cell_type": "code",
   "execution_count": null,
   "id": "a9f4b252-28df-4551-a8ed-bba03c6f02ce",
   "metadata": {},
   "outputs": [],
   "source": [
    "cv = CadViewer(options={\"cadWidth\":640, \"height\":480, \"theme\":\"light\"})\n",
    "cv"
   ]
  },
  {
   "cell_type": "code",
   "execution_count": null,
   "id": "6790e14e-df84-4f5a-80c6-e8ffb433d7a9",
   "metadata": {},
   "outputs": [],
   "source": [
    "cv.add_shapes(box1, states, options={})"
   ]
  },
  {
   "cell_type": "code",
   "execution_count": null,
   "id": "74899046-f6de-4df7-bc14-32ab6fdb1516",
   "metadata": {},
   "outputs": [],
   "source": []
  }
 ],
 "metadata": {
  "kernelspec": {
   "display_name": "Python 3",
   "language": "python",
   "name": "python3"
  },
  "language_info": {
   "codemirror_mode": {
    "name": "ipython",
    "version": 3
   },
   "file_extension": ".py",
   "mimetype": "text/x-python",
   "name": "python",
   "nbconvert_exporter": "python",
   "pygments_lexer": "ipython3",
   "version": "3.8.10"
  },
  "widgets": {
   "application/vnd.jupyter.widget-state+json": {
    "state": {
     "5ae2b554c753409eafe90b9290915de6": {
      "model_module": "cad-viewer-widget",
      "model_module_version": "^0.1.0",
      "model_name": "CadViewerModel",
      "state": {
       "_model_module_version": "^0.1.0",
       "_view_module_version": "^0.1.0",
       "layout": "IPY_MODEL_90212725d4e548349cf521260c72d463",
       "options": {
        "ambientIntensity": 0.9,
        "cadWidth": 640,
        "directIntensity": 0.12,
        "height": 480,
        "measure": false,
        "needsAnimationLoop": false,
        "normalLen": 0,
        "ortho": true,
        "theme": "light",
        "treeWidth": 240
       },
       "shapes": {
        "options": {
         "ambientIntensity": 0.9,
         "cadWidth": 640,
         "directIntensity": 0.12,
         "height": 480,
         "measure": false,
         "needsAnimationLoop": false,
         "normalLen": 0,
         "ortho": true,
         "theme": "light",
         "treeWidth": 240
        },
        "shapes": "{\"name\": \"Group\", \"id\": \"/Group\", \"loc\": null, \"parts\": [{\"type\": \"shapes\", \"id\": \"/Group/Part_0\", \"name\": \"Part_0\", \"color\": \"#e8b024\", \"shape\": {\"vertices\": [\"_f32\", [24, 3], \"eJxjYGDYz4CJ7dFoGNseixg2OWxq0c1DNxebvdjsQ8ekuB2XOlxutwcA8hQjuQ==\"], \"triangles\": [1, 2, 0, 1, 3, 2, 5, 4, 6, 5, 6, 7, 11, 8, 9, 11, 10, 8, 15, 13, 12, 15, 12, 14, 19, 16, 17, 19, 18, 16, 23, 21, 20, 23, 20, 22], \"normals\": [\"_f32\", [24, 3], \"eJxjYGjYz8DA0MAABkSx7RmgDOLYYP5+EtjIdhDDJtUOYs0FswFs8yPp\"], \"edges\": [\"_f32\", [12, 2, 3], \"eJxjYGDYz4CJ7bGw7dHY+7GIYzODGLOwYWxyxNqJLobuFmzuwOoWACIjI7k=\"]}}]}",
        "states": {
         "/Group/Part_0": [
          1,
          1
         ]
        }
       },
       "tracks": []
      }
     },
     "64b3f8418e6745599b0493725f5af2b6": {
      "model_module": "cad-viewer-widget",
      "model_module_version": "^0.1.0",
      "model_name": "CadViewerModel",
      "state": {
       "_model_module_version": "^0.1.0",
       "_view_module_version": "^0.1.0",
       "layout": "IPY_MODEL_c51fdc8e820c4d78b250504101d1b1a0",
       "options": {
        "ambientIntensity": 0.9,
        "cadWidth": 640,
        "directIntensity": 0.12,
        "height": 480,
        "measure": false,
        "needsAnimationLoop": false,
        "normalLen": 0,
        "ortho": true,
        "theme": "light",
        "treeWidth": 240
       },
       "shapes": {
        "options": {
         "ambientIntensity": 0.9,
         "cadWidth": 640,
         "directIntensity": 0.12,
         "height": 480,
         "measure": false,
         "needsAnimationLoop": false,
         "normalLen": 0,
         "ortho": true,
         "theme": "light",
         "treeWidth": 240
        },
        "shapes": "{\"name\": \"Group\", \"id\": \"/Group\", \"loc\": null, \"parts\": [{\"type\": \"shapes\", \"id\": \"/Group/Part_0\", \"name\": \"Part_0\", \"color\": \"#e8b024\", \"shape\": {\"vertices\": [\"_f32\", [24, 3], \"eJxjYGDYz4CJ7dFoGNseixg2OWxq0c1DNxebvdjsQ8ekuB2XOlxutwcA8hQjuQ==\"], \"triangles\": [1, 2, 0, 1, 3, 2, 5, 4, 6, 5, 6, 7, 11, 8, 9, 11, 10, 8, 15, 13, 12, 15, 12, 14, 19, 16, 17, 19, 18, 16, 23, 21, 20, 23, 20, 22], \"normals\": [\"_f32\", [24, 3], \"eJxjYGjYz8DA0MAABkSx7RmgDOLYYP5+EtjIdhDDJtUOYs0FswFs8yPp\"], \"edges\": [\"_f32\", [12, 2, 3], \"eJxjYGDYz4CJ7bGw7dHY+7GIYzODGLOwYWxyxNqJLobuFmzuwOoWACIjI7k=\"]}}]}",
        "states": {
         "/Group/Part_0": [
          1,
          1
         ]
        }
       },
       "tracks": []
      }
     },
     "90212725d4e548349cf521260c72d463": {
      "model_module": "@jupyter-widgets/base",
      "model_module_version": "1.2.0",
      "model_name": "LayoutModel",
      "state": {}
     },
     "c51fdc8e820c4d78b250504101d1b1a0": {
      "model_module": "@jupyter-widgets/base",
      "model_module_version": "1.2.0",
      "model_name": "LayoutModel",
      "state": {}
     },
     "cfe87f4240fb450980232a8dd676f818": {
      "model_module": "@jupyter-widgets/base",
      "model_module_version": "1.2.0",
      "model_name": "LayoutModel",
      "state": {}
     },
     "ffbc83a8f158482aa2cd7e6b3395735b": {
      "model_module": "cad-viewer-widget",
      "model_module_version": "^0.1.0",
      "model_name": "CadViewerModel",
      "state": {
       "_model_module_version": "^0.1.0",
       "_view_module_version": "^0.1.0",
       "layout": "IPY_MODEL_cfe87f4240fb450980232a8dd676f818",
       "options": {
        "ambientIntensity": 0.9,
        "cadWidth": 640,
        "directIntensity": 0.12,
        "height": 480,
        "measure": false,
        "needsAnimationLoop": false,
        "normalLen": 0,
        "ortho": true,
        "theme": "light",
        "treeWidth": 240
       },
       "shapes": {
        "options": {
         "ambientIntensity": 0.9,
         "cadWidth": 640,
         "directIntensity": 0.12,
         "height": 480,
         "needsAnimationLoop": false,
         "normalLen": 0,
         "ortho": true,
         "theme": "light",
         "treeWidth": 240
        },
        "shapes": "{\"name\": \"Group\", \"id\": \"/Group\", \"loc\": null, \"parts\": [{\"type\": \"shapes\", \"id\": \"/Group/Part_0\", \"name\": \"Part_0\", \"color\": \"#e8b024\", \"shape\": {\"vertices\": [\"_f32\", [24, 3], \"eJxjYGDYz4CJ7dFoGNseixg2OWxq0c1DNxebvdjsQ8ekuB2XOlxutwcA8hQjuQ==\"], \"triangles\": [1, 2, 0, 1, 3, 2, 5, 4, 6, 5, 6, 7, 11, 8, 9, 11, 10, 8, 15, 13, 12, 15, 12, 14, 19, 16, 17, 19, 18, 16, 23, 21, 20, 23, 20, 22], \"normals\": [\"_f32\", [24, 3], \"eJxjYGjYz8DA0MAABkSx7RmgDOLYYP5+EtjIdhDDJtUOYs0FswFs8yPp\"], \"edges\": [\"_f32\", [12, 2, 3], \"eJxjYGDYz4CJ7bGw7dHY+7GIYzODGLOwYWxyxNqJLobuFmzuwOoWACIjI7k=\"]}}]}",
        "states": {
         "/Group/Part_0": [
          1,
          1
         ]
        }
       },
       "tracks": []
      }
     }
    },
    "version_major": 2,
    "version_minor": 0
   }
  }
 },
 "nbformat": 4,
 "nbformat_minor": 5
}
