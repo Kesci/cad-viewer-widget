{
 "cells": [
  {
   "cell_type": "code",
   "execution_count": 4,
   "id": "e014e63e-43f9-41c3-ae0c-42c7f745690c",
   "metadata": {},
   "outputs": [
    {
     "data": {
      "text/html": [
       "<link rel=\"stylesheet\" href=\"https://unpkg.com/three-cad-viewer@0.9.0-beta.9/dist/three-cad-viewer.css\">"
      ],
      "text/plain": [
       "<IPython.core.display.HTML object>"
      ]
     },
     "metadata": {},
     "output_type": "display_data"
    }
   ],
   "source": [
    "import numpy as np\n",
    "import json\n",
    "from cad_viewer_widget import CadViewer\n",
    "from cad_viewer_widget.serializer import default\n",
    "from IPython.display import HTML, display\n",
    "\n",
    "def encode(shape):\n",
    "    return json.dumps(shape, default=default)\n",
    "\n",
    "html = \"\"\"<link rel=\"stylesheet\" href=\"https://unpkg.com/three-cad-viewer@0.9.0-beta.9/dist/three-cad-viewer.css\">\"\"\"\n",
    "display(HTML(html))"
   ]
  },
  {
   "cell_type": "code",
   "execution_count": 2,
   "id": "06d7a35d-c99c-47d7-94d3-622f21559f86",
   "metadata": {},
   "outputs": [],
   "source": [
    "box1 = {\n",
    "    \"name\": \"Group\",\n",
    "    \"id\": \"/Group\",\n",
    "    \"loc\": None,\n",
    "    \"parts\": [\n",
    "        {\n",
    "            \"type\": \"shapes\",\n",
    "            \"id\": \"/Group/Part_0\",            \n",
    "            \"name\": \"Part_0\",\n",
    "            \"color\": \"#e8b024\",            \n",
    "            \"shape\": {\n",
    "                \"vertices\": np.asarray([\n",
    "                    [-0.5, -0.5, -0.5],\n",
    "                    [-0.5, -0.5, 0.5],\n",
    "                    [-0.5, 0.5, -0.5],\n",
    "                    [-0.5, 0.5, 0.5],\n",
    "                    [0.5, -0.5, -0.5],\n",
    "                    [0.5, -0.5, 0.5],\n",
    "                    [0.5, 0.5, -0.5],\n",
    "                    [0.5, 0.5, 0.5],\n",
    "                    [-0.5, -0.5, -0.5],\n",
    "                    [0.5, -0.5, -0.5],\n",
    "                    [-0.5, -0.5, 0.5],\n",
    "                    [0.5, -0.5, 0.5],\n",
    "                    [-0.5, 0.5, -0.5],\n",
    "                    [0.5, 0.5, -0.5],\n",
    "                    [-0.5, 0.5, 0.5],\n",
    "                    [0.5, 0.5, 0.5],\n",
    "                    [-0.5, -0.5, -0.5],\n",
    "                    [-0.5, 0.5, -0.5],\n",
    "                    [0.5, -0.5, -0.5],\n",
    "                    [0.5, 0.5, -0.5],\n",
    "                    [-0.5, -0.5, 0.5],\n",
    "                    [-0.5, 0.5, 0.5],\n",
    "                    [0.5, -0.5, 0.5],\n",
    "                    [0.5, 0.5, 0.5]\n",
    "                ]),\n",
    "                \"triangles\": [\n",
    "                    1, 2, 0, \n",
    "                    1, 3, 2, \n",
    "                    5, 4, 6, \n",
    "                    5, 6, 7, \n",
    "                    11, 8, 9, \n",
    "                    11, 10, 8, \n",
    "                    15, 13, 12, \n",
    "                    15, 12, 14, \n",
    "                    19, 16, 17, \n",
    "                    19, 18, 16, \n",
    "                    23, 21, 20, \n",
    "                    23, 20, 22],\n",
    "                \"normals\": np.asarray([\n",
    "                    [-1.0, -0.0, 0.0],\n",
    "                    [-1.0, -0.0, 0.0],\n",
    "                    [-1.0, -0.0, 0.0],\n",
    "                    [-1.0, -0.0, 0.0],\n",
    "                    [1.0, 0.0, -0.0],\n",
    "                    [1.0, 0.0, -0.0],\n",
    "                    [1.0, 0.0, -0.0],\n",
    "                    [1.0, 0.0, -0.0],\n",
    "                    [-0.0, -1.0, -0.0],\n",
    "                    [-0.0, -1.0, -0.0],\n",
    "                    [-0.0, -1.0, -0.0],\n",
    "                    [-0.0, -1.0, -0.0],\n",
    "                    [0.0, 1.0, 0.0],\n",
    "                    [0.0, 1.0, 0.0],\n",
    "                    [0.0, 1.0, 0.0],\n",
    "                    [0.0, 1.0, 0.0],\n",
    "                    [-0.0, -0.0, -1.0],\n",
    "                    [-0.0, -0.0, -1.0],\n",
    "                    [-0.0, -0.0, -1.0],\n",
    "                    [-0.0, -0.0, -1.0],\n",
    "                    [0.0, 0.0, 1.0],\n",
    "                    [0.0, 0.0, 1.0],\n",
    "                    [0.0, 0.0, 1.0],\n",
    "                    [0.0, 0.0, 1.0]\n",
    "                ]),\n",
    "                \"edges\": np.asarray([\n",
    "                        [[-0.5, -0.5, -0.5], [-0.5, -0.5, 0.5]],\n",
    "                        [[-0.5, -0.5, 0.5], [-0.5, 0.5, 0.5]],\n",
    "                        [[-0.5, 0.5, -0.5], [-0.5, 0.5, 0.5]],\n",
    "                        [[-0.5, -0.5, -0.5], [-0.5, 0.5, -0.5]],\n",
    "                        [[0.5, -0.5, -0.5], [0.5, -0.5, 0.5]],\n",
    "                        [[0.5, -0.5, 0.5], [0.5, 0.5, 0.5]],\n",
    "                        [[0.5, 0.5, -0.5], [0.5, 0.5, 0.5]],\n",
    "                        [[0.5, -0.5, -0.5], [0.5, 0.5, -0.5]],\n",
    "                        [[-0.5, -0.5, -0.5], [0.5, -0.5, -0.5]],\n",
    "                        [[-0.5, -0.5, 0.5], [0.5, -0.5, 0.5]],\n",
    "                        [[-0.5, 0.5, -0.5], [0.5, 0.5, -0.5]],\n",
    "                        [[-0.5, 0.5, 0.5], [0.5, 0.5, 0.5]]\n",
    "                ])\n",
    "            }\n",
    "        }\n",
    "    ]\n",
    "}\n",
    "\n",
    "\n",
    "states = { \"/Group/Part_0\":[1,1] }"
   ]
  },
  {
   "cell_type": "code",
   "execution_count": 3,
   "id": "a9f4b252-28df-4551-a8ed-bba03c6f02ce",
   "metadata": {},
   "outputs": [
    {
     "data": {
      "application/vnd.jupyter.widget-view+json": {
       "model_id": "994b871c1ba0413b8b1c94357fde2ce5",
       "version_major": 2,
       "version_minor": 0
      },
      "text/plain": [
       "CadViewer(options={'needsAnimationLoop': False, 'measure': False}, shapes='{\"name\": \"Group\", \"id\": \"/Group\", \"…"
      ]
     },
     "metadata": {},
     "output_type": "display_data"
    }
   ],
   "source": [
    "cv = CadViewer(\n",
    "    shapes=encode(box1), \n",
    "    states=states,\n",
    "    options={\"needsAnimationLoop\":False, \"measure\":False}\n",
    ")\n",
    "cv"
   ]
  },
  {
   "cell_type": "code",
   "execution_count": null,
   "id": "283d12aa-a00f-4cfe-97de-800397b38c72",
   "metadata": {},
   "outputs": [],
   "source": []
  }
 ],
 "metadata": {
  "kernelspec": {
   "display_name": "Python 3",
   "language": "python",
   "name": "python3"
  },
  "language_info": {
   "codemirror_mode": {
    "name": "ipython",
    "version": 3
   },
   "file_extension": ".py",
   "mimetype": "text/x-python",
   "name": "python",
   "nbconvert_exporter": "python",
   "pygments_lexer": "ipython3",
   "version": "3.8.10"
  },
  "widgets": {
   "application/vnd.jupyter.widget-state+json": {
    "state": {
     "259acdbc3a354af19114d21465f79a6e": {
      "model_module": "@jupyter-widgets/base",
      "model_module_version": "1.2.0",
      "model_name": "LayoutModel",
      "state": {}
     },
     "994b871c1ba0413b8b1c94357fde2ce5": {
      "model_module": "cad-viewer-widget",
      "model_module_version": "^0.1.0",
      "model_name": "CadViewerModel",
      "state": {
       "_model_module_version": "^0.1.0",
       "_view_module_version": "^0.1.0",
       "layout": "IPY_MODEL_259acdbc3a354af19114d21465f79a6e",
       "options": {
        "measure": false,
        "needsAnimationLoop": false
       },
       "shapes": "{\"name\": \"Group\", \"id\": \"/Group\", \"loc\": null, \"parts\": [{\"type\": \"shapes\", \"id\": \"/Group/Part_0\", \"name\": \"Part_0\", \"color\": \"#e8b024\", \"shape\": {\"vertices\": [\"_f32\", [24, 3], \"eJxjYGDYz4CJ7dFoGNseixg2OWxq0c1DNxebvdjsQ8ekuB2XOlxutwcA8hQjuQ==\"], \"triangles\": [1, 2, 0, 1, 3, 2, 5, 4, 6, 5, 6, 7, 11, 8, 9, 11, 10, 8, 15, 13, 12, 15, 12, 14, 19, 16, 17, 19, 18, 16, 23, 21, 20, 23, 20, 22], \"normals\": [\"_f32\", [24, 3], \"eJxjYGjYz8DA0MAABkSx7RmgDOLYYP5+EtjIdhDDJtUOYs0FswFs8yPp\"], \"edges\": [\"_f32\", [12, 2, 3], \"eJxjYGDYz4CJ7bGw7dHY+7GIYzODGLOwYWxyxNqJLobuFmzuwOoWACIjI7k=\"]}}]}",
       "states": {
        "/Group/Part_0": [
         1,
         1
        ]
       },
       "tracks": []
      }
     }
    },
    "version_major": 2,
    "version_minor": 0
   }
  }
 },
 "nbformat": 4,
 "nbformat_minor": 5
}
